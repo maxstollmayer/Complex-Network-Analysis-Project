{
 "cells": [
  {
   "cell_type": "markdown",
   "id": "8eedbd4a-c536-430f-8b19-50c64604e6e1",
   "metadata": {},
   "source": [
    "# Progress"
   ]
  },
  {
   "cell_type": "markdown",
   "id": "15de7bd9-efa2-442f-918f-e2ba1973f1f7",
   "metadata": {},
   "source": [
    "### what we did"
   ]
  },
  {
   "cell_type": "markdown",
   "id": "b0b832ab-8964-4bc0-ac67-2153de127cca",
   "metadata": {},
   "source": [
    "- prepared a lot of networks\n",
    "- digged through papers about persistent homology and ring like structures\n",
    "- prepared the scenes"
   ]
  },
  {
   "cell_type": "markdown",
   "id": "a659dd38-08b8-48bb-be6e-319ac975f95d",
   "metadata": {},
   "source": [
    "## Motivation"
   ]
  },
  {
   "cell_type": "markdown",
   "id": "80e1a19c-eda5-4975-89ff-3d1f8cb6d32a",
   "metadata": {},
   "source": [
    "how ringy are networks?"
   ]
  },
  {
   "cell_type": "markdown",
   "id": "61916da9-61e9-4fe7-8c3f-04f6bc0957c2",
   "metadata": {},
   "source": [
    "how could this help us?"
   ]
  },
  {
   "cell_type": "markdown",
   "id": "06bb7b93-9dfa-4cb3-ad52-1d31b935c1f6",
   "metadata": {},
   "source": [
    "## PART I - Persistent Homology"
   ]
  },
  {
   "cell_type": "markdown",
   "id": "b1a9256a-93f4-463a-9aaf-1abf8060e9b8",
   "metadata": {},
   "source": [
    "1.1 toy network aus paper"
   ]
  },
  {
   "cell_type": "markdown",
   "id": "29640475-fdb6-4d23-8575-d172bbb0bcf9",
   "metadata": {},
   "source": [
    "1.1.1 point cloud"
   ]
  },
  {
   "cell_type": "markdown",
   "id": "708beefb-4702-493a-af0c-2940bae2e8fe",
   "metadata": {},
   "source": [
    "1.1.1 connect close points"
   ]
  },
  {
   "cell_type": "markdown",
   "id": "70f8a036-1d52-4adc-8fd5-a41017d13bdf",
   "metadata": {},
   "source": [
    "1.1.3 connect further points"
   ]
  },
  {
   "cell_type": "markdown",
   "id": "ce1f4e89-b67a-44af-ba2a-e05919030cb4",
   "metadata": {},
   "source": [
    "1.1.4 watch holes be born and die"
   ]
  },
  {
   "cell_type": "markdown",
   "id": "c4dc6007-1c3c-414a-9722-e19b09af2eb5",
   "metadata": {},
   "source": [
    "1.1.5 until every hole is dead"
   ]
  },
  {
   "cell_type": "markdown",
   "id": "5c92f4cc-4d88-45ac-b311-f6287331826c",
   "metadata": {},
   "source": [
    "1.2 Random Graphs with RW-based centrality measure"
   ]
  },
  {
   "cell_type": "markdown",
   "id": "de90af17-2186-42bc-938e-fd67d71863cf",
   "metadata": {},
   "source": [
    "1.2.1 Two networks in spring-layout\n",
    "\n",
    "<img src=\"er_spring.png\"><img src=\"ws_spring.png\">\n",
    "\n",
    "Persistence Diagram with Netflow\n",
    "\n",
    "<img src=\"er_persistence_diagram.png\"><img src=\"ws_persistence_diagram.png\">"
   ]
  },
  {
   "cell_type": "markdown",
   "id": "186509ee-604d-4eba-964a-5c2461dfb208",
   "metadata": {
    "tags": []
   },
   "source": [
    "1.2.2 Two networks in circular layout\n",
    "\n",
    "<img src=\"er_circular.png\"><img src=\"ws_circular.png\">"
   ]
  },
  {
   "cell_type": "markdown",
   "id": "2dcc780a-7d94-4007-902c-b6e60108203f",
   "metadata": {},
   "source": [
    "             Erdos-Renyi: n=20, p=0.2                    vs             Watts-Strogatz-Graph: n=20, k=6, p=0.2"
   ]
  },
  {
   "cell_type": "markdown",
   "id": "0792461e-5d7a-43ad-8ae6-3ea2266e193e",
   "metadata": {},
   "source": [
    "## PART II - real world networks"
   ]
  },
  {
   "cell_type": "markdown",
   "id": "b0207cfd-9f03-48a9-8e26-4e936a5aa503",
   "metadata": {},
   "source": [
    "2.1.1 network from paper in spring layout\n",
    "\n",
    "<img src=\"fibro_network.png\">\n",
    "\n",
    "Persistence Diagram with Spatial Distance\n",
    "\n",
    "<img src=\"fibro_persistence_diagram.png\">"
   ]
  },
  {
   "cell_type": "markdown",
   "id": "e2a82bf2-d08f-4a75-bfb0-7e8f8c4d1c82",
   "metadata": {},
   "source": [
    "2.2.1 collab in spring layout\n",
    "\n",
    "<img src=\"collab_network.png\">"
   ]
  },
  {
   "cell_type": "markdown",
   "id": "e8fe29b8-0b56-4368-af59-d8515be6ef11",
   "metadata": {},
   "source": [
    "Persistence Diagram with intrinsic weights (amount of papers collaborated on)\n",
    "\n",
    "<img src=\"collab_persistence_diagram_weights.png\">"
   ]
  },
  {
   "cell_type": "markdown",
   "id": "fa7705b0-9d5c-4033-b7b8-25958a7951a7",
   "metadata": {},
   "source": [
    "Persistence Diagram with RW-based centrality measure\n",
    "\n",
    "<img src=\"collab_persistence_diagram_netflow.png\">"
   ]
  },
  {
   "cell_type": "markdown",
   "id": "ef233782-edbe-47e8-a8be-5aa971a03c4d",
   "metadata": {},
   "source": [
    "### what comes next"
   ]
  },
  {
   "cell_type": "markdown",
   "id": "59a945f4-806d-41bf-988a-231bad247214",
   "metadata": {},
   "source": [
    "- hand in the scenes and come to see it in VR\n",
    "- start writing the seminar paper, content:\n",
    "    - Ringlike structures and why it is useful to analyze them\n",
    "    - brief summary of the methods\n",
    "        - Vietoris-Rips complex\n",
    "        - persistent homology\n",
    "        - ring scores\n",
    "    - explain why we used certain networks in the presentation"
   ]
  },
  {
   "cell_type": "code",
   "execution_count": null,
   "id": "c302ce80-e590-4912-9b50-3e1e9b6f91fe",
   "metadata": {},
   "outputs": [],
   "source": []
  }
 ],
 "metadata": {
  "kernelspec": {
   "display_name": "Python 3 (ipykernel)",
   "language": "python",
   "name": "python3"
  },
  "language_info": {
   "codemirror_mode": {
    "name": "ipython",
    "version": 3
   },
   "file_extension": ".py",
   "mimetype": "text/x-python",
   "name": "python",
   "nbconvert_exporter": "python",
   "pygments_lexer": "ipython3",
   "version": "3.7.11"
  }
 },
 "nbformat": 4,
 "nbformat_minor": 5
}
