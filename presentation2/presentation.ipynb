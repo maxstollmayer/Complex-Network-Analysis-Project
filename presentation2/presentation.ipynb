{
 "cells": [
  {
   "cell_type": "markdown",
   "id": "8eedbd4a-c536-430f-8b19-50c64604e6e1",
   "metadata": {},
   "source": [
    "# Progress"
   ]
  },
  {
   "cell_type": "markdown",
   "id": "15de7bd9-efa2-442f-918f-e2ba1973f1f7",
   "metadata": {},
   "source": [
    "### what we did"
   ]
  },
  {
   "cell_type": "markdown",
   "id": "b0b832ab-8964-4bc0-ac67-2153de127cca",
   "metadata": {},
   "source": [
    "- prepared a lot of networks\n",
    "- digged through papers about persistent homology and ring like structures\n",
    "- prepared the scenes"
   ]
  },
  {
   "cell_type": "markdown",
   "id": "06bb7b93-9dfa-4cb3-ad52-1d31b935c1f6",
   "metadata": {},
   "source": [
    "## PART I"
   ]
  },
  {
   "cell_type": "markdown",
   "id": "b1a9256a-93f4-463a-9aaf-1abf8060e9b8",
   "metadata": {},
   "source": [
    "1.1 toy network"
   ]
  },
  {
   "cell_type": "markdown",
   "id": "4e671c3b-c110-494a-b318-ac86a2a56312",
   "metadata": {},
   "source": [
    "1.2.1 circle"
   ]
  },
  {
   "cell_type": "markdown",
   "id": "ce34cc64-cfbc-40d8-9804-0ce59fef672f",
   "metadata": {},
   "source": [
    "1.2.2 deleted circle"
   ]
  },
  {
   "cell_type": "markdown",
   "id": "996f91df-5a57-456a-aa73-9dfdafe7d62a",
   "metadata": {},
   "source": [
    "1.2.3 circle"
   ]
  },
  {
   "cell_type": "markdown",
   "id": "92ef30fc-bc46-4b4b-a168-58edf180b3ad",
   "metadata": {},
   "source": [
    "1.3.1 perturbed circle"
   ]
  },
  {
   "cell_type": "markdown",
   "id": "b777c82b-10de-4968-b83d-fe8e0ed0ee39",
   "metadata": {},
   "source": [
    "1.3.2 deleted perturbed circle"
   ]
  },
  {
   "cell_type": "markdown",
   "id": "e0cee1b9-d580-4914-af60-c9bc799a9001",
   "metadata": {},
   "source": [
    "1.3.3 add edges"
   ]
  },
  {
   "cell_type": "markdown",
   "id": "17a329cd-9fd3-49f7-8fdf-3fb13d70dbe8",
   "metadata": {},
   "source": [
    "1.3.4 add more edges"
   ]
  },
  {
   "cell_type": "markdown",
   "id": "5e398a04-fb8e-4340-8b18-7386b40b3596",
   "metadata": {},
   "source": [
    "1.3.5 even more more"
   ]
  },
  {
   "cell_type": "markdown",
   "id": "cb6f93d2-08e3-48b3-a11f-67c4fae9f698",
   "metadata": {},
   "source": [
    "1.3.6 full perturbed circle"
   ]
  },
  {
   "cell_type": "markdown",
   "id": "29640475-fdb6-4d23-8575-d172bbb0bcf9",
   "metadata": {},
   "source": [
    "1.4.1 deleted toy network"
   ]
  },
  {
   "cell_type": "markdown",
   "id": "708beefb-4702-493a-af0c-2940bae2e8fe",
   "metadata": {},
   "source": [
    "1.4.2 add edges"
   ]
  },
  {
   "cell_type": "markdown",
   "id": "70f8a036-1d52-4adc-8fd5-a41017d13bdf",
   "metadata": {},
   "source": [
    "1.4.3 add more edges"
   ]
  },
  {
   "cell_type": "markdown",
   "id": "ce1f4e89-b67a-44af-ba2a-e05919030cb4",
   "metadata": {},
   "source": [
    "1.4.4 even more more"
   ]
  },
  {
   "cell_type": "markdown",
   "id": "c4dc6007-1c3c-414a-9722-e19b09af2eb5",
   "metadata": {},
   "source": [
    "1.4.5 even more more more"
   ]
  },
  {
   "cell_type": "markdown",
   "id": "5c92f4cc-4d88-45ac-b311-f6287331826c",
   "metadata": {},
   "source": [
    "1.4.6 full toy network"
   ]
  },
  {
   "cell_type": "markdown",
   "id": "0792461e-5d7a-43ad-8ae6-3ea2266e193e",
   "metadata": {},
   "source": [
    "## PART II"
   ]
  },
  {
   "cell_type": "markdown",
   "id": "7c911256-84af-4b8b-8aa1-4daa408bf76a",
   "metadata": {},
   "source": [
    "2.1.1 watts strogatz in spring layout"
   ]
  },
  {
   "cell_type": "markdown",
   "id": "5b97cb07-adc2-46c1-9c44-24fcc9b0b30c",
   "metadata": {},
   "source": [
    "2.1.2 watts strogatz in circular layout"
   ]
  },
  {
   "cell_type": "markdown",
   "id": "b0207cfd-9f03-48a9-8e26-4e936a5aa503",
   "metadata": {},
   "source": [
    "2.2.1 network from paper in spring layout"
   ]
  },
  {
   "cell_type": "markdown",
   "id": "e2a82bf2-d08f-4a75-bfb0-7e8f8c4d1c82",
   "metadata": {},
   "source": [
    "2.3.1 collab in spring layout"
   ]
  },
  {
   "cell_type": "markdown",
   "id": "ef233782-edbe-47e8-a8be-5aa971a03c4d",
   "metadata": {},
   "source": [
    "### what comes next"
   ]
  },
  {
   "cell_type": "markdown",
   "id": "59a945f4-806d-41bf-988a-231bad247214",
   "metadata": {},
   "source": [
    "- hand in the scenes and come to see it in VR\n",
    "- start writing the seminar paper, content:\n",
    "    - Ringlike structures and why it is useful to analyze them\n",
    "    - brief summary of the methods\n",
    "        - Vietoris-Rips complex\n",
    "        - persistent homology\n",
    "        - ring scores\n",
    "    - explain why we used certain networks in the presentation"
   ]
  },
  {
   "cell_type": "code",
   "execution_count": null,
   "id": "c302ce80-e590-4912-9b50-3e1e9b6f91fe",
   "metadata": {},
   "outputs": [],
   "source": []
  }
 ],
 "metadata": {
  "kernelspec": {
   "display_name": "Python 3 (ipykernel)",
   "language": "python",
   "name": "python3"
  },
  "language_info": {
   "codemirror_mode": {
    "name": "ipython",
    "version": 3
   },
   "file_extension": ".py",
   "mimetype": "text/x-python",
   "name": "python",
   "nbconvert_exporter": "python",
   "pygments_lexer": "ipython3",
   "version": "3.7.11"
  }
 },
 "nbformat": 4,
 "nbformat_minor": 5
}
