{
 "cells": [
  {
   "cell_type": "markdown",
   "metadata": {},
   "source": [
    "# Netscience Collaboration Network\n",
    "\n",
    "data source: https://networkrepository.com/ca-netscience.php\n"
   ]
  },
  {
   "cell_type": "code",
   "execution_count": 22,
   "metadata": {},
   "outputs": [],
   "source": [
    "import networkx as nx\n",
    "import numpy as np\n",
    "from matplotlib import pyplot as plt\n",
    "from layout import Layout"
   ]
  },
  {
   "cell_type": "markdown",
   "metadata": {},
   "source": [
    "### Construct graph from network data"
   ]
  },
  {
   "cell_type": "code",
   "execution_count": 23,
   "metadata": {},
   "outputs": [
    {
     "data": {
      "text/plain": [
       "'Graph with 379 nodes and 914 edges'"
      ]
     },
     "execution_count": 23,
     "metadata": {},
     "output_type": "execute_result"
    }
   ],
   "source": [
    "G = nx.read_edgelist(\"netscience.txt\", nodetype=int)\n",
    "nx.info(G)"
   ]
  },
  {
   "cell_type": "code",
   "execution_count": 24,
   "metadata": {},
   "outputs": [],
   "source": [
    "pos = nx.spring_layout(G, dim=3)"
   ]
  },
  {
   "cell_type": "code",
   "execution_count": 25,
   "metadata": {},
   "outputs": [],
   "source": [
    "layout = Layout(G, pos)"
   ]
  },
  {
   "cell_type": "markdown",
   "metadata": {},
   "source": [
    "#### Add edge weights"
   ]
  },
  {
   "cell_type": "code",
   "execution_count": 26,
   "metadata": {},
   "outputs": [],
   "source": [
    "cliques_dict = nx.cliques_containing_node(G, nodes=list(G.nodes))\n",
    "# convert inner lists to sets for permutation invariant comparison\n",
    "all_cliques = {node: [set(clique) for clique in cliques] for node, cliques in cliques_dict.items()}"
   ]
  },
  {
   "cell_type": "code",
   "execution_count": 27,
   "metadata": {},
   "outputs": [],
   "source": [
    "for n1, n2 in G.edges:\n",
    "    weight = 0\n",
    "    for clique in all_cliques[n1]:\n",
    "        if clique in all_cliques[n2]:\n",
    "            weight += 1 / (len(clique) - 1)\n",
    "    G[n1][n2][\"weight\"] = weight"
   ]
  },
  {
   "cell_type": "code",
   "execution_count": 28,
   "metadata": {},
   "outputs": [],
   "source": [
    "weights = [G[n1][n2][\"weight\"] for n1, n2 in G.edges]"
   ]
  },
  {
   "cell_type": "code",
   "execution_count": 29,
   "metadata": {},
   "outputs": [],
   "source": [
    "max_weight = np.max(weights)\n",
    "min_weight = np.min(weights)"
   ]
  },
  {
   "cell_type": "code",
   "execution_count": 30,
   "metadata": {},
   "outputs": [
    {
     "name": "stdout",
     "output_type": "stream",
     "text": [
      "2.833333333333333 should be 4.75\n",
      "0.125 should be 0.125\n"
     ]
    }
   ],
   "source": [
    "print(max_weight, \"should be 4.75\")\n",
    "print(min_weight, \"should be 0.125\")"
   ]
  },
  {
   "cell_type": "markdown",
   "metadata": {},
   "source": [
    "### Write nodes and edges"
   ]
  },
  {
   "cell_type": "code",
   "execution_count": 31,
   "metadata": {},
   "outputs": [],
   "source": [
    "max_glow = 255\n",
    "min_glow = 100\n",
    "\n",
    "def get_glow(weight):\n",
    "    k = (max_glow - min_glow) / (max_weight - min_weight)\n",
    "    d = min_glow - k * min_weight\n",
    "    return int(k * weight + d)\n",
    "\n",
    "layout.edge_colors = [(255, 255, 255, get_glow(G[n1][n2][\"weight\"])) for n1, n2 in G.edges]"
   ]
  },
  {
   "cell_type": "code",
   "execution_count": 32,
   "metadata": {},
   "outputs": [
    {
     "data": {
      "text/html": [
       "<div>\n",
       "<style scoped>\n",
       "    .dataframe tbody tr th:only-of-type {\n",
       "        vertical-align: middle;\n",
       "    }\n",
       "\n",
       "    .dataframe tbody tr th {\n",
       "        vertical-align: top;\n",
       "    }\n",
       "\n",
       "    .dataframe thead th {\n",
       "        text-align: right;\n",
       "    }\n",
       "</style>\n",
       "<table border=\"1\" class=\"dataframe\">\n",
       "  <thead>\n",
       "    <tr style=\"text-align: right;\">\n",
       "      <th></th>\n",
       "      <th>x</th>\n",
       "      <th>y</th>\n",
       "      <th>z</th>\n",
       "      <th>r</th>\n",
       "      <th>g</th>\n",
       "      <th>b</th>\n",
       "      <th>a</th>\n",
       "      <th>name</th>\n",
       "    </tr>\n",
       "  </thead>\n",
       "  <tbody>\n",
       "    <tr>\n",
       "      <th>0</th>\n",
       "      <td>0.794942</td>\n",
       "      <td>0.651676</td>\n",
       "      <td>0.509812</td>\n",
       "      <td>31</td>\n",
       "      <td>119</td>\n",
       "      <td>180</td>\n",
       "      <td>100</td>\n",
       "      <td>node_0</td>\n",
       "    </tr>\n",
       "    <tr>\n",
       "      <th>1</th>\n",
       "      <td>0.740322</td>\n",
       "      <td>0.616059</td>\n",
       "      <td>0.506964</td>\n",
       "      <td>31</td>\n",
       "      <td>119</td>\n",
       "      <td>180</td>\n",
       "      <td>100</td>\n",
       "      <td>node_1</td>\n",
       "    </tr>\n",
       "    <tr>\n",
       "      <th>2</th>\n",
       "      <td>0.784636</td>\n",
       "      <td>0.660141</td>\n",
       "      <td>0.518815</td>\n",
       "      <td>31</td>\n",
       "      <td>119</td>\n",
       "      <td>180</td>\n",
       "      <td>100</td>\n",
       "      <td>node_2</td>\n",
       "    </tr>\n",
       "    <tr>\n",
       "      <th>3</th>\n",
       "      <td>0.737133</td>\n",
       "      <td>0.547970</td>\n",
       "      <td>0.660331</td>\n",
       "      <td>31</td>\n",
       "      <td>119</td>\n",
       "      <td>180</td>\n",
       "      <td>100</td>\n",
       "      <td>node_3</td>\n",
       "    </tr>\n",
       "    <tr>\n",
       "      <th>4</th>\n",
       "      <td>0.687935</td>\n",
       "      <td>0.532711</td>\n",
       "      <td>0.581865</td>\n",
       "      <td>31</td>\n",
       "      <td>119</td>\n",
       "      <td>180</td>\n",
       "      <td>100</td>\n",
       "      <td>node_4</td>\n",
       "    </tr>\n",
       "    <tr>\n",
       "      <th>...</th>\n",
       "      <td>...</td>\n",
       "      <td>...</td>\n",
       "      <td>...</td>\n",
       "      <td>...</td>\n",
       "      <td>...</td>\n",
       "      <td>...</td>\n",
       "      <td>...</td>\n",
       "      <td>...</td>\n",
       "    </tr>\n",
       "    <tr>\n",
       "      <th>374</th>\n",
       "      <td>0.724698</td>\n",
       "      <td>1.000000</td>\n",
       "      <td>0.268997</td>\n",
       "      <td>31</td>\n",
       "      <td>119</td>\n",
       "      <td>180</td>\n",
       "      <td>100</td>\n",
       "      <td>node_374</td>\n",
       "    </tr>\n",
       "    <tr>\n",
       "      <th>375</th>\n",
       "      <td>0.845687</td>\n",
       "      <td>0.733592</td>\n",
       "      <td>0.757676</td>\n",
       "      <td>31</td>\n",
       "      <td>119</td>\n",
       "      <td>180</td>\n",
       "      <td>100</td>\n",
       "      <td>node_375</td>\n",
       "    </tr>\n",
       "    <tr>\n",
       "      <th>376</th>\n",
       "      <td>0.841245</td>\n",
       "      <td>0.743160</td>\n",
       "      <td>0.736818</td>\n",
       "      <td>31</td>\n",
       "      <td>119</td>\n",
       "      <td>180</td>\n",
       "      <td>100</td>\n",
       "      <td>node_376</td>\n",
       "    </tr>\n",
       "    <tr>\n",
       "      <th>377</th>\n",
       "      <td>0.853435</td>\n",
       "      <td>0.735872</td>\n",
       "      <td>0.743210</td>\n",
       "      <td>31</td>\n",
       "      <td>119</td>\n",
       "      <td>180</td>\n",
       "      <td>100</td>\n",
       "      <td>node_377</td>\n",
       "    </tr>\n",
       "    <tr>\n",
       "      <th>378</th>\n",
       "      <td>0.832829</td>\n",
       "      <td>0.740740</td>\n",
       "      <td>0.750793</td>\n",
       "      <td>31</td>\n",
       "      <td>119</td>\n",
       "      <td>180</td>\n",
       "      <td>100</td>\n",
       "      <td>node_378</td>\n",
       "    </tr>\n",
       "  </tbody>\n",
       "</table>\n",
       "<p>379 rows × 8 columns</p>\n",
       "</div>"
      ],
      "text/plain": [
       "            x         y         z   r    g    b    a      name\n",
       "0    0.794942  0.651676  0.509812  31  119  180  100    node_0\n",
       "1    0.740322  0.616059  0.506964  31  119  180  100    node_1\n",
       "2    0.784636  0.660141  0.518815  31  119  180  100    node_2\n",
       "3    0.737133  0.547970  0.660331  31  119  180  100    node_3\n",
       "4    0.687935  0.532711  0.581865  31  119  180  100    node_4\n",
       "..        ...       ...       ...  ..  ...  ...  ...       ...\n",
       "374  0.724698  1.000000  0.268997  31  119  180  100  node_374\n",
       "375  0.845687  0.733592  0.757676  31  119  180  100  node_375\n",
       "376  0.841245  0.743160  0.736818  31  119  180  100  node_376\n",
       "377  0.853435  0.735872  0.743210  31  119  180  100  node_377\n",
       "378  0.832829  0.740740  0.750793  31  119  180  100  node_378\n",
       "\n",
       "[379 rows x 8 columns]"
      ]
     },
     "execution_count": 32,
     "metadata": {},
     "output_type": "execute_result"
    }
   ],
   "source": [
    "layout.node_table"
   ]
  },
  {
   "cell_type": "code",
   "execution_count": 33,
   "metadata": {},
   "outputs": [
    {
     "data": {
      "text/html": [
       "<div>\n",
       "<style scoped>\n",
       "    .dataframe tbody tr th:only-of-type {\n",
       "        vertical-align: middle;\n",
       "    }\n",
       "\n",
       "    .dataframe tbody tr th {\n",
       "        vertical-align: top;\n",
       "    }\n",
       "\n",
       "    .dataframe thead th {\n",
       "        text-align: right;\n",
       "    }\n",
       "</style>\n",
       "<table border=\"1\" class=\"dataframe\">\n",
       "  <thead>\n",
       "    <tr style=\"text-align: right;\">\n",
       "      <th></th>\n",
       "      <th>i</th>\n",
       "      <th>j</th>\n",
       "      <th>r</th>\n",
       "      <th>g</th>\n",
       "      <th>b</th>\n",
       "      <th>a</th>\n",
       "    </tr>\n",
       "  </thead>\n",
       "  <tbody>\n",
       "    <tr>\n",
       "      <th>0</th>\n",
       "      <td>0</td>\n",
       "      <td>1</td>\n",
       "      <td>255</td>\n",
       "      <td>255</td>\n",
       "      <td>255</td>\n",
       "      <td>121</td>\n",
       "    </tr>\n",
       "    <tr>\n",
       "      <th>1</th>\n",
       "      <td>0</td>\n",
       "      <td>2</td>\n",
       "      <td>255</td>\n",
       "      <td>255</td>\n",
       "      <td>255</td>\n",
       "      <td>121</td>\n",
       "    </tr>\n",
       "    <tr>\n",
       "      <th>2</th>\n",
       "      <td>1</td>\n",
       "      <td>2</td>\n",
       "      <td>255</td>\n",
       "      <td>255</td>\n",
       "      <td>255</td>\n",
       "      <td>121</td>\n",
       "    </tr>\n",
       "    <tr>\n",
       "      <th>3</th>\n",
       "      <td>1</td>\n",
       "      <td>3</td>\n",
       "      <td>255</td>\n",
       "      <td>255</td>\n",
       "      <td>255</td>\n",
       "      <td>126</td>\n",
       "    </tr>\n",
       "    <tr>\n",
       "      <th>4</th>\n",
       "      <td>1</td>\n",
       "      <td>4</td>\n",
       "      <td>255</td>\n",
       "      <td>255</td>\n",
       "      <td>255</td>\n",
       "      <td>126</td>\n",
       "    </tr>\n",
       "    <tr>\n",
       "      <th>...</th>\n",
       "      <td>...</td>\n",
       "      <td>...</td>\n",
       "      <td>...</td>\n",
       "      <td>...</td>\n",
       "      <td>...</td>\n",
       "      <td>...</td>\n",
       "    </tr>\n",
       "    <tr>\n",
       "      <th>909</th>\n",
       "      <td>375</td>\n",
       "      <td>377</td>\n",
       "      <td>255</td>\n",
       "      <td>255</td>\n",
       "      <td>255</td>\n",
       "      <td>107</td>\n",
       "    </tr>\n",
       "    <tr>\n",
       "      <th>910</th>\n",
       "      <td>375</td>\n",
       "      <td>378</td>\n",
       "      <td>255</td>\n",
       "      <td>255</td>\n",
       "      <td>255</td>\n",
       "      <td>107</td>\n",
       "    </tr>\n",
       "    <tr>\n",
       "      <th>911</th>\n",
       "      <td>376</td>\n",
       "      <td>377</td>\n",
       "      <td>255</td>\n",
       "      <td>255</td>\n",
       "      <td>255</td>\n",
       "      <td>107</td>\n",
       "    </tr>\n",
       "    <tr>\n",
       "      <th>912</th>\n",
       "      <td>376</td>\n",
       "      <td>378</td>\n",
       "      <td>255</td>\n",
       "      <td>255</td>\n",
       "      <td>255</td>\n",
       "      <td>107</td>\n",
       "    </tr>\n",
       "    <tr>\n",
       "      <th>913</th>\n",
       "      <td>377</td>\n",
       "      <td>378</td>\n",
       "      <td>255</td>\n",
       "      <td>255</td>\n",
       "      <td>255</td>\n",
       "      <td>107</td>\n",
       "    </tr>\n",
       "  </tbody>\n",
       "</table>\n",
       "<p>914 rows × 6 columns</p>\n",
       "</div>"
      ],
      "text/plain": [
       "       i    j    r    g    b    a\n",
       "0      0    1  255  255  255  121\n",
       "1      0    2  255  255  255  121\n",
       "2      1    2  255  255  255  121\n",
       "3      1    3  255  255  255  126\n",
       "4      1    4  255  255  255  126\n",
       "..   ...  ...  ...  ...  ...  ...\n",
       "909  375  377  255  255  255  107\n",
       "910  375  378  255  255  255  107\n",
       "911  376  377  255  255  255  107\n",
       "912  376  378  255  255  255  107\n",
       "913  377  378  255  255  255  107\n",
       "\n",
       "[914 rows x 6 columns]"
      ]
     },
     "execution_count": 33,
     "metadata": {},
     "output_type": "execute_result"
    }
   ],
   "source": [
    "layout.edge_table"
   ]
  },
  {
   "cell_type": "code",
   "execution_count": 34,
   "metadata": {},
   "outputs": [],
   "source": [
    "layout.write(node_file_path=\"collaboration_nodes.csv\", edge_file_path=\"collaboration_edges.csv\")"
   ]
  },
  {
   "cell_type": "markdown",
   "metadata": {},
   "source": [
    "### Persistent Homology\n",
    "\n",
    "https://snap.stanford.edu/social2012/papers/carstens-horadam.pdf"
   ]
  },
  {
   "cell_type": "code",
   "execution_count": 35,
   "metadata": {},
   "outputs": [],
   "source": [
    "filtration = []\n",
    "thresholds = np.linspace(min_weight, max_weight, len(G))\n",
    "for threshold in thresholds:\n",
    "    filter_edge = lambda n1, n2: G[n1][n2][\"weight\"] >= threshold\n",
    "    view = nx.subgraph_view(G, filter_edge=filter_edge).copy()\n",
    "    filtration.append(view)\n",
    "\n",
    "betti_0 = [nx.number_connected_components(view) for view in filtration]\n",
    "w_star = thresholds[::-1][np.argmin(betti_0[::-1])]\n",
    "n_edges = [view.number_of_edges() for view in filtration]"
   ]
  },
  {
   "cell_type": "code",
   "execution_count": 36,
   "metadata": {},
   "outputs": [
    {
     "data": {
      "image/png": "[encoded data removed]",
      "text/plain": [
       "<Figure size 432x288 with 1 Axes>"
      ]
     },
     "metadata": {
      "needs_background": "light"
     },
     "output_type": "display_data"
    }
   ],
   "source": [
    "plt.plot(thresholds, betti_0, label=\"# connected components\")\n",
    "plt.plot(thresholds, n_edges, label=\"# edges\")\n",
    "plt.vlines(w_star, 0, n_edges[0], color=\"black\", alpha=0.5, label=fr\"$w^*$ = {w_star:.3g}\")\n",
    "plt.xlabel(\"weight threshold\")\n",
    "plt.legend()\n",
    "plt.show()"
   ]
  },
  {
   "cell_type": "code",
   "execution_count": null,
   "metadata": {},
   "outputs": [],
   "source": []
  }
 ],
 "metadata": {
  "interpreter": {
   "hash": "f8b061f694196eff35bd4262176dcf15c237a1dd69fadc5f75437e24f0ec6257"
  },
  "kernelspec": {
   "display_name": "Python 3.9.7 ('base')",
   "language": "python",
   "name": "python3"
  },
  "language_info": {
   "codemirror_mode": {
    "name": "ipython",
    "version": 3
   },
   "file_extension": ".py",
   "mimetype": "text/x-python",
   "name": "python",
   "nbconvert_exporter": "python",
   "pygments_lexer": "ipython3",
   "version": "3.9.7"
  },
  "orig_nbformat": 4
 },
 "nbformat": 4,
 "nbformat_minor": 2
}
