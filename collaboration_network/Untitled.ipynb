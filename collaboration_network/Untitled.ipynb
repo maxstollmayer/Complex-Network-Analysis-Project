{
 "cells": [
  {
   "cell_type": "code",
   "execution_count": 1,
   "id": "18c078d8-8d55-4f92-b0d3-590935360533",
   "metadata": {},
   "outputs": [],
   "source": [
    "import networkx as nx\n",
    "import numpy as np\n",
    "from matplotlib import pyplot as plt\n",
    "import ringity as rng"
   ]
  },
  {
   "cell_type": "code",
   "execution_count": 4,
   "id": "b479f912-3c31-4595-aa9f-5238832d92d9",
   "metadata": {},
   "outputs": [
    {
     "data": {
      "text/plain": [
       "'Graph with 379 nodes and 914 edges'"
      ]
     },
     "execution_count": 4,
     "metadata": {},
     "output_type": "execute_result"
    }
   ],
   "source": [
    "G_all = nx.read_gml(\"netscience.gml\")\n",
    "LCC = max(nx.connected_components(G_all), key=len)\n",
    "G = G_all.subgraph(LCC).copy()\n",
    "nx.info(G)"
   ]
  },
  {
   "cell_type": "code",
   "execution_count": 5,
   "id": "fa63c5de-f625-43df-93bd-02a34d8194e1",
   "metadata": {},
   "outputs": [],
   "source": [
    "dgm = rng.diagram(G)"
   ]
  },
  {
   "cell_type": "code",
   "execution_count": 6,
   "id": "e6db12e9-9339-4191-b78c-bd5b6ba88882",
   "metadata": {},
   "outputs": [
    {
     "name": "stdout",
     "output_type": "stream",
     "text": [
      "[(11647.5029296875, 17267.966796875),\n",
      " (9688.9189453125, 13097.623046875),\n",
      " (2457.6953125, 5632.51904296875),\n",
      " (13203.7431640625, 15331.10546875),\n",
      " (2767.6240234375, 4658.5498046875),\n",
      " (1917.031494140625, 3132.355224609375),\n",
      " (3965.207763671875, 5146.13232421875),\n",
      " (3143.882080078125, 4090.040771484375),\n",
      " (2324.027099609375, 3235.70751953125),\n",
      " (2041.165283203125, 2930.607421875),\n",
      " (2216.699951171875, 3039.401123046875),\n",
      " (2243.8671875, 2902.13916015625),\n",
      " (2835.040283203125, 3353.095947265625),\n",
      " (5279.3212890625, 5700.04345703125),\n",
      " (1022.73193359375, 1317.0166015625),\n",
      " (592.4515380859375, 807.2817993164062),\n",
      " (1137.7222900390625, 1282.419921875),\n",
      " (1296.984375, 1403.2542724609375),\n",
      " (478.504150390625, 579.7367553710938),\n",
      " (1180.6800537109375, 1280.81201171875),\n",
      " (859.6302490234375, 950.6455078125),\n",
      " (456.63714599609375, 536.0691528320312),\n",
      " (504.65625, 575.5740356445312),\n",
      " (2340.355712890625, 2395.97998046875),\n",
      " (396.5573425292969, 415.2022399902344),\n",
      " (1009.0964965820312, 1025.4853515625),\n",
      " (389.7493896484375, 395.9991149902344),\n",
      " (382.0714416503906, 386.5)]\n"
     ]
    }
   ],
   "source": [
    "print(dgm)"
   ]
  },
  {
   "cell_type": "code",
   "execution_count": 10,
   "id": "447990c5-c020-4358-8e24-91ed14d71df7",
   "metadata": {},
   "outputs": [
    {
     "data": {
      "text/plain": [
       "Text(0, 0.5, 'time of death')"
      ]
     },
     "execution_count": 10,
     "metadata": {},
     "output_type": "execute_result"
    },
    {
     "data": {
      "image/png": "[encoded data removed]",
      "text/plain": [
       "<Figure size 432x288 with 1 Axes>"
      ]
     },
     "metadata": {
      "needs_background": "light"
     },
     "output_type": "display_data"
    }
   ],
   "source": [
    "rng.plot_dgm(dgm)\n",
    "for coordinates in dgm:\n",
    "    # green line if alive for at least 1000\n",
    "    if coordinates[0]+1000 < coordinates[1]:\n",
    "        plt.plot([coordinates[0],coordinates[0]],[coordinates[0], coordinates[1]], 'gs--')\n",
    "\n",
    "plt.xlabel('time of birth')\n",
    "plt.ylabel('time of death')"
   ]
  },
  {
   "cell_type": "code",
   "execution_count": 11,
   "id": "d3b8b720-f150-4889-8555-83ab3ec63225",
   "metadata": {},
   "outputs": [
    {
     "data": {
      "text/plain": [
       "0.4746673470016448"
      ]
     },
     "execution_count": 11,
     "metadata": {},
     "output_type": "execute_result"
    }
   ],
   "source": [
    "dgm.ring_score()"
   ]
  },
  {
   "cell_type": "code",
   "execution_count": null,
   "id": "c20659bf-ccdd-4306-ac21-c506df637b79",
   "metadata": {},
   "outputs": [],
   "source": []
  }
 ],
 "metadata": {
  "kernelspec": {
   "display_name": "Python 3 (ipykernel)",
   "language": "python",
   "name": "python3"
  },
  "language_info": {
   "codemirror_mode": {
    "name": "ipython",
    "version": 3
   },
   "file_extension": ".py",
   "mimetype": "text/x-python",
   "name": "python",
   "nbconvert_exporter": "python",
   "pygments_lexer": "ipython3",
   "version": "3.7.11"
  }
 },
 "nbformat": 4,
 "nbformat_minor": 5
}
