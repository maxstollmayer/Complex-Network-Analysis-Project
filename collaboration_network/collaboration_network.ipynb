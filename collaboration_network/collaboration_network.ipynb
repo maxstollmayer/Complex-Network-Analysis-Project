{
 "cells": [
  {
   "cell_type": "markdown",
   "metadata": {},
   "source": [
    "# Netscience Collaboration Network\n",
    "\n",
    "data source: http://www-personal.umich.edu/~mejn/netdata/\n",
    "\n",
    "citation:\n",
    "```\n",
    "@article{newman2006finding,\n",
    "     title={Finding community structure in networks using the eigenvectors of matrices},\n",
    "     author={Newman, Mark EJ},\n",
    "     journal={Physical review E},\n",
    "     volume={74},\n",
    "     number={3},\n",
    "     pages={036104},\n",
    "     year={2006},\n",
    "     publisher={APS}\n",
    "}\n",
    "```"
   ]
  },
  {
   "cell_type": "code",
   "execution_count": 34,
   "metadata": {},
   "outputs": [],
   "source": [
    "import networkx as nx\n",
    "import numpy as np\n",
    "from matplotlib import pyplot as plt\n",
    "from layout import Layout"
   ]
  },
  {
   "cell_type": "markdown",
   "metadata": {},
   "source": [
    "### Construct graph from network data"
   ]
  },
  {
   "cell_type": "code",
   "execution_count": 35,
   "metadata": {},
   "outputs": [
    {
     "data": {
      "text/plain": [
       "'Graph with 1589 nodes and 2742 edges'"
      ]
     },
     "execution_count": 35,
     "metadata": {},
     "output_type": "execute_result"
    }
   ],
   "source": [
    "G_all = nx.read_gml(\"netscience.gml\")\n",
    "nx.info(G_all)"
   ]
  },
  {
   "cell_type": "code",
   "execution_count": 36,
   "metadata": {},
   "outputs": [
    {
     "data": {
      "text/plain": [
       "'Graph with 379 nodes and 914 edges'"
      ]
     },
     "execution_count": 36,
     "metadata": {},
     "output_type": "execute_result"
    }
   ],
   "source": [
    "LCC = max(nx.connected_components(G_all), key=len)\n",
    "G = G_all.subgraph(LCC).copy()\n",
    "nx.info(G)"
   ]
  },
  {
   "cell_type": "code",
   "execution_count": 37,
   "metadata": {},
   "outputs": [],
   "source": [
    "pos = nx.spring_layout(G, dim=3)"
   ]
  },
  {
   "cell_type": "code",
   "execution_count": 38,
   "metadata": {},
   "outputs": [],
   "source": [
    "layout = Layout(G, pos)"
   ]
  },
  {
   "cell_type": "code",
   "execution_count": 39,
   "metadata": {},
   "outputs": [],
   "source": [
    "layout.node_names = list(G.nodes)"
   ]
  },
  {
   "cell_type": "code",
   "execution_count": 40,
   "metadata": {},
   "outputs": [],
   "source": [
    "weights = [G[n1][n2][\"value\"] for n1, n2 in G.edges]\n",
    "min_weight = np.min(weights)\n",
    "max_weight = np.max(weights)\n",
    "\n",
    "max_glow = 255\n",
    "min_glow = 100\n",
    "\n",
    "def get_glow(weight):\n",
    "    k = (max_glow - min_glow) / (max_weight - min_weight)\n",
    "    d = min_glow - k * min_weight\n",
    "    return int(k * weight + d)\n",
    "\n",
    "layout.edge_colors = [(255, 255, 255, get_glow(G[n1][n2][\"value\"])) for n1, n2 in G.edges]"
   ]
  },
  {
   "cell_type": "code",
   "execution_count": 41,
   "metadata": {},
   "outputs": [
    {
     "data": {
      "text/html": [
       "<div>\n",
       "<style scoped>\n",
       "    .dataframe tbody tr th:only-of-type {\n",
       "        vertical-align: middle;\n",
       "    }\n",
       "\n",
       "    .dataframe tbody tr th {\n",
       "        vertical-align: top;\n",
       "    }\n",
       "\n",
       "    .dataframe thead th {\n",
       "        text-align: right;\n",
       "    }\n",
       "</style>\n",
       "<table border=\"1\" class=\"dataframe\">\n",
       "  <thead>\n",
       "    <tr style=\"text-align: right;\">\n",
       "      <th></th>\n",
       "      <th>x</th>\n",
       "      <th>y</th>\n",
       "      <th>z</th>\n",
       "      <th>r</th>\n",
       "      <th>g</th>\n",
       "      <th>b</th>\n",
       "      <th>a</th>\n",
       "      <th>name</th>\n",
       "    </tr>\n",
       "  </thead>\n",
       "  <tbody>\n",
       "    <tr>\n",
       "      <th>0</th>\n",
       "      <td>0.159228</td>\n",
       "      <td>0.560701</td>\n",
       "      <td>0.287647</td>\n",
       "      <td>31</td>\n",
       "      <td>119</td>\n",
       "      <td>180</td>\n",
       "      <td>100</td>\n",
       "      <td>FLORIA, L</td>\n",
       "    </tr>\n",
       "    <tr>\n",
       "      <th>1</th>\n",
       "      <td>0.418662</td>\n",
       "      <td>0.602231</td>\n",
       "      <td>0.381540</td>\n",
       "      <td>31</td>\n",
       "      <td>119</td>\n",
       "      <td>180</td>\n",
       "      <td>100</td>\n",
       "      <td>MONTOYA, J</td>\n",
       "    </tr>\n",
       "    <tr>\n",
       "      <th>2</th>\n",
       "      <td>0.706355</td>\n",
       "      <td>0.533246</td>\n",
       "      <td>0.634793</td>\n",
       "      <td>31</td>\n",
       "      <td>119</td>\n",
       "      <td>180</td>\n",
       "      <td>100</td>\n",
       "      <td>ALBERT, I</td>\n",
       "    </tr>\n",
       "    <tr>\n",
       "      <th>3</th>\n",
       "      <td>0.784941</td>\n",
       "      <td>0.726340</td>\n",
       "      <td>0.698326</td>\n",
       "      <td>31</td>\n",
       "      <td>119</td>\n",
       "      <td>180</td>\n",
       "      <td>100</td>\n",
       "      <td>DUNNE, J</td>\n",
       "    </tr>\n",
       "    <tr>\n",
       "      <th>4</th>\n",
       "      <td>0.635833</td>\n",
       "      <td>0.235149</td>\n",
       "      <td>0.568634</td>\n",
       "      <td>31</td>\n",
       "      <td>119</td>\n",
       "      <td>180</td>\n",
       "      <td>100</td>\n",
       "      <td>BUCOLO, M</td>\n",
       "    </tr>\n",
       "    <tr>\n",
       "      <th>...</th>\n",
       "      <td>...</td>\n",
       "      <td>...</td>\n",
       "      <td>...</td>\n",
       "      <td>...</td>\n",
       "      <td>...</td>\n",
       "      <td>...</td>\n",
       "      <td>...</td>\n",
       "      <td>...</td>\n",
       "    </tr>\n",
       "    <tr>\n",
       "      <th>374</th>\n",
       "      <td>0.402650</td>\n",
       "      <td>0.579245</td>\n",
       "      <td>0.357020</td>\n",
       "      <td>31</td>\n",
       "      <td>119</td>\n",
       "      <td>180</td>\n",
       "      <td>100</td>\n",
       "      <td>THERAULAZ, G</td>\n",
       "    </tr>\n",
       "    <tr>\n",
       "      <th>375</th>\n",
       "      <td>0.266119</td>\n",
       "      <td>0.563720</td>\n",
       "      <td>0.643105</td>\n",
       "      <td>31</td>\n",
       "      <td>119</td>\n",
       "      <td>180</td>\n",
       "      <td>100</td>\n",
       "      <td>CATANZARO, M</td>\n",
       "    </tr>\n",
       "    <tr>\n",
       "      <th>376</th>\n",
       "      <td>0.197581</td>\n",
       "      <td>0.658857</td>\n",
       "      <td>0.320559</td>\n",
       "      <td>31</td>\n",
       "      <td>119</td>\n",
       "      <td>180</td>\n",
       "      <td>100</td>\n",
       "      <td>VAZQUEZ, A</td>\n",
       "    </tr>\n",
       "    <tr>\n",
       "      <th>377</th>\n",
       "      <td>0.173299</td>\n",
       "      <td>0.239020</td>\n",
       "      <td>0.410293</td>\n",
       "      <td>31</td>\n",
       "      <td>119</td>\n",
       "      <td>180</td>\n",
       "      <td>100</td>\n",
       "      <td>OSIPOV, G</td>\n",
       "    </tr>\n",
       "    <tr>\n",
       "      <th>378</th>\n",
       "      <td>0.192294</td>\n",
       "      <td>0.631312</td>\n",
       "      <td>0.690831</td>\n",
       "      <td>31</td>\n",
       "      <td>119</td>\n",
       "      <td>180</td>\n",
       "      <td>100</td>\n",
       "      <td>AHARONY, A</td>\n",
       "    </tr>\n",
       "  </tbody>\n",
       "</table>\n",
       "<p>379 rows × 8 columns</p>\n",
       "</div>"
      ],
      "text/plain": [
       "            x         y         z   r    g    b    a          name\n",
       "0    0.159228  0.560701  0.287647  31  119  180  100     FLORIA, L\n",
       "1    0.418662  0.602231  0.381540  31  119  180  100    MONTOYA, J\n",
       "2    0.706355  0.533246  0.634793  31  119  180  100     ALBERT, I\n",
       "3    0.784941  0.726340  0.698326  31  119  180  100      DUNNE, J\n",
       "4    0.635833  0.235149  0.568634  31  119  180  100     BUCOLO, M\n",
       "..        ...       ...       ...  ..  ...  ...  ...           ...\n",
       "374  0.402650  0.579245  0.357020  31  119  180  100  THERAULAZ, G\n",
       "375  0.266119  0.563720  0.643105  31  119  180  100  CATANZARO, M\n",
       "376  0.197581  0.658857  0.320559  31  119  180  100    VAZQUEZ, A\n",
       "377  0.173299  0.239020  0.410293  31  119  180  100     OSIPOV, G\n",
       "378  0.192294  0.631312  0.690831  31  119  180  100    AHARONY, A\n",
       "\n",
       "[379 rows x 8 columns]"
      ]
     },
     "execution_count": 41,
     "metadata": {},
     "output_type": "execute_result"
    }
   ],
   "source": [
    "layout.node_table"
   ]
  },
  {
   "cell_type": "code",
   "execution_count": 42,
   "metadata": {},
   "outputs": [
    {
     "data": {
      "text/html": [
       "<div>\n",
       "<style scoped>\n",
       "    .dataframe tbody tr th:only-of-type {\n",
       "        vertical-align: middle;\n",
       "    }\n",
       "\n",
       "    .dataframe tbody tr th {\n",
       "        vertical-align: top;\n",
       "    }\n",
       "\n",
       "    .dataframe thead th {\n",
       "        text-align: right;\n",
       "    }\n",
       "</style>\n",
       "<table border=\"1\" class=\"dataframe\">\n",
       "  <thead>\n",
       "    <tr style=\"text-align: right;\">\n",
       "      <th></th>\n",
       "      <th>i</th>\n",
       "      <th>j</th>\n",
       "      <th>r</th>\n",
       "      <th>g</th>\n",
       "      <th>b</th>\n",
       "      <th>a</th>\n",
       "    </tr>\n",
       "  </thead>\n",
       "  <tbody>\n",
       "    <tr>\n",
       "      <th>0</th>\n",
       "      <td>0</td>\n",
       "      <td>46</td>\n",
       "      <td>255</td>\n",
       "      <td>255</td>\n",
       "      <td>255</td>\n",
       "      <td>112</td>\n",
       "    </tr>\n",
       "    <tr>\n",
       "      <th>1</th>\n",
       "      <td>0</td>\n",
       "      <td>29</td>\n",
       "      <td>255</td>\n",
       "      <td>255</td>\n",
       "      <td>255</td>\n",
       "      <td>112</td>\n",
       "    </tr>\n",
       "    <tr>\n",
       "      <th>2</th>\n",
       "      <td>1</td>\n",
       "      <td>49</td>\n",
       "      <td>255</td>\n",
       "      <td>255</td>\n",
       "      <td>255</td>\n",
       "      <td>162</td>\n",
       "    </tr>\n",
       "    <tr>\n",
       "      <th>3</th>\n",
       "      <td>2</td>\n",
       "      <td>101</td>\n",
       "      <td>255</td>\n",
       "      <td>255</td>\n",
       "      <td>255</td>\n",
       "      <td>112</td>\n",
       "    </tr>\n",
       "    <tr>\n",
       "      <th>4</th>\n",
       "      <td>2</td>\n",
       "      <td>358</td>\n",
       "      <td>255</td>\n",
       "      <td>255</td>\n",
       "      <td>255</td>\n",
       "      <td>112</td>\n",
       "    </tr>\n",
       "    <tr>\n",
       "      <th>...</th>\n",
       "      <td>...</td>\n",
       "      <td>...</td>\n",
       "      <td>...</td>\n",
       "      <td>...</td>\n",
       "      <td>...</td>\n",
       "      <td>...</td>\n",
       "    </tr>\n",
       "    <tr>\n",
       "      <th>909</th>\n",
       "      <td>341</td>\n",
       "      <td>351</td>\n",
       "      <td>255</td>\n",
       "      <td>255</td>\n",
       "      <td>255</td>\n",
       "      <td>106</td>\n",
       "    </tr>\n",
       "    <tr>\n",
       "      <th>910</th>\n",
       "      <td>342</td>\n",
       "      <td>363</td>\n",
       "      <td>255</td>\n",
       "      <td>255</td>\n",
       "      <td>255</td>\n",
       "      <td>104</td>\n",
       "    </tr>\n",
       "    <tr>\n",
       "      <th>911</th>\n",
       "      <td>352</td>\n",
       "      <td>353</td>\n",
       "      <td>255</td>\n",
       "      <td>255</td>\n",
       "      <td>255</td>\n",
       "      <td>101</td>\n",
       "    </tr>\n",
       "    <tr>\n",
       "      <th>912</th>\n",
       "      <td>367</td>\n",
       "      <td>376</td>\n",
       "      <td>255</td>\n",
       "      <td>255</td>\n",
       "      <td>255</td>\n",
       "      <td>106</td>\n",
       "    </tr>\n",
       "    <tr>\n",
       "      <th>913</th>\n",
       "      <td>368</td>\n",
       "      <td>374</td>\n",
       "      <td>255</td>\n",
       "      <td>255</td>\n",
       "      <td>255</td>\n",
       "      <td>101</td>\n",
       "    </tr>\n",
       "  </tbody>\n",
       "</table>\n",
       "<p>914 rows × 6 columns</p>\n",
       "</div>"
      ],
      "text/plain": [
       "       i    j    r    g    b    a\n",
       "0      0   46  255  255  255  112\n",
       "1      0   29  255  255  255  112\n",
       "2      1   49  255  255  255  162\n",
       "3      2  101  255  255  255  112\n",
       "4      2  358  255  255  255  112\n",
       "..   ...  ...  ...  ...  ...  ...\n",
       "909  341  351  255  255  255  106\n",
       "910  342  363  255  255  255  104\n",
       "911  352  353  255  255  255  101\n",
       "912  367  376  255  255  255  106\n",
       "913  368  374  255  255  255  101\n",
       "\n",
       "[914 rows x 6 columns]"
      ]
     },
     "execution_count": 42,
     "metadata": {},
     "output_type": "execute_result"
    }
   ],
   "source": [
    "layout.edge_table"
   ]
  },
  {
   "cell_type": "code",
   "execution_count": 43,
   "metadata": {},
   "outputs": [],
   "source": [
    "layout.write(node_file_path=\"collaboration_nodes.csv\", edge_file_path=\"collaboration_edges.csv\")"
   ]
  },
  {
   "cell_type": "markdown",
   "metadata": {},
   "source": [
    "### Persistent Homology\n",
    "\n",
    "https://snap.stanford.edu/social2012/papers/carstens-horadam.pdf"
   ]
  },
  {
   "cell_type": "code",
   "execution_count": 44,
   "metadata": {},
   "outputs": [],
   "source": [
    "filtration = []\n",
    "thresholds = np.linspace(min_weight, max_weight, len(G))\n",
    "for threshold in thresholds:\n",
    "    filter_edge = lambda n1, n2: G[n1][n2][\"value\"] >= threshold\n",
    "    view = nx.subgraph_view(G, filter_edge=filter_edge).copy()\n",
    "    filtration.append(view)\n",
    "\n",
    "betti_0 = [nx.number_connected_components(view) for view in filtration]\n",
    "w_star = thresholds[::-1][np.argmin(betti_0[::-1])]\n",
    "n_edges = [view.number_of_edges() for view in filtration]"
   ]
  },
  {
   "cell_type": "code",
   "execution_count": 45,
   "metadata": {},
   "outputs": [
    {
     "data": {
      "image/png": "[encoded data removed]",
      "text/plain": [
       "<Figure size 432x288 with 1 Axes>"
      ]
     },
     "metadata": {
      "needs_background": "light"
     },
     "output_type": "display_data"
    }
   ],
   "source": [
    "plt.loglog(thresholds, betti_0, label=\"# connected components\")\n",
    "plt.loglog(thresholds, n_edges, label=\"# edges\")\n",
    "plt.vlines(w_star, 0, n_edges[0], color=\"black\", alpha=0.5, label=fr\"$w^*$ = {w_star:.3g}\")\n",
    "plt.xlabel(\"weight threshold\")\n",
    "plt.legend()\n",
    "plt.show()"
   ]
  },
  {
   "cell_type": "code",
   "execution_count": null,
   "metadata": {},
   "outputs": [],
   "source": []
  }
 ],
 "metadata": {
  "interpreter": {
   "hash": "f8b061f694196eff35bd4262176dcf15c237a1dd69fadc5f75437e24f0ec6257"
  },
  "kernelspec": {
   "display_name": "Python 3 (ipykernel)",
   "language": "python",
   "name": "python3"
  },
  "language_info": {
   "codemirror_mode": {
    "name": "ipython",
    "version": 3
   },
   "file_extension": ".py",
   "mimetype": "text/x-python",
   "name": "python",
   "nbconvert_exporter": "python",
   "pygments_lexer": "ipython3",
   "version": "3.7.11"
  }
 },
 "nbformat": 4,
 "nbformat_minor": 4
}
