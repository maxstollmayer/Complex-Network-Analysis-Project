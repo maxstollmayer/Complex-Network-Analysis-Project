{
 "cells": [
  {
   "cell_type": "code",
   "execution_count": 32,
   "id": "6782d6a7-88bb-4968-8226-5304d13ece5b",
   "metadata": {},
   "outputs": [],
   "source": [
    "import networkx as nx\n",
    "import ringity as rng"
   ]
  },
  {
   "cell_type": "code",
   "execution_count": 35,
   "id": "194318c9-c360-46f5-8b35-fe4510af29db",
   "metadata": {},
   "outputs": [],
   "source": [
    "G = nx.read_edgelist('experiments/drugz/drug_edges.csv', delimiter=';', data=[('weight', int)])"
   ]
  },
  {
   "cell_type": "code",
   "execution_count": 37,
   "id": "c039e82e-bccc-4759-a73c-0361f034ae7a",
   "metadata": {},
   "outputs": [
    {
     "data": {
      "text/plain": [
       "NodeView(('Phenobarbital', 'Hydrocortisone', 'Phenytoin', 'Warfarin', 'Ciprofloxacin', 'Metronidazole', 'Aminophylline', 'Erythromycin', 'Timolol', 'Fenoterol', 'Carbamazepine', 'Lithium', 'Epinephrine', 'Atenolol', 'Diazepam', 'Ibuprofen', 'Diclofenac', 'Fluconazole', 'Prednisolone', 'Diltiazem', 'Furosemide', 'Haloperidol', 'Fluoxetine', 'Digoxin', 'Levodopa', 'Iron (II) Sulfate', 'Prednisone', 'Methyldopa', 'Propranolol', 'Ethinyl Estradiol', 'ASA', 'Clonazepam', 'Trimethoprim', 'Methylphenidate', 'Azithromycin', 'Chlorpromazine', 'Alendronate', 'Amlodipine', 'Sulfadiazine', 'Enalapril', 'Maprotiline', 'Captopril', 'Losartan', 'Acetaminophen', 'Allopurinol', 'Folic acid', 'Biperiden', 'Estrogens Conj.', 'Tobramycin', 'Gentamicin', 'Metoclopramide', 'Glyburide', 'Spironolactone', 'Norfloxacin', 'Amoxicillin', 'Estradiol', 'Hydrochlorothiazide', 'Simvastatin', 'Amiodarone', 'Doxycycline', 'Imipramine', 'Propylthiouracil', 'Salbutamol', 'Norethisterone', 'Nortriptyline', 'Levothyroxine', 'Clavulanate', 'Gliclazide', 'Verapamil', 'Omeprazole', 'Amitriptyline', 'Dexamethasone', 'Levonorgestrel', 'Medroxyproges. Ac.', 'Carvedilol'))"
      ]
     },
     "execution_count": 37,
     "metadata": {},
     "output_type": "execute_result"
    }
   ],
   "source": [
    "G.nodes"
   ]
  },
  {
   "cell_type": "code",
   "execution_count": 38,
   "id": "7c845781-3e76-4553-826f-15db9ae38823",
   "metadata": {},
   "outputs": [
    {
     "data": {
      "text/plain": [
       "EdgeView([('Phenobarbital', 'Hydrocortisone'), ('Phenobarbital', 'Metronidazole'), ('Phenobarbital', 'Prednisolone'), ('Phenobarbital', 'Prednisone'), ('Phenobarbital', 'Propranolol'), ('Phenobarbital', 'Folic acid'), ('Phenobarbital', 'Doxycycline'), ('Phenobarbital', 'Norethisterone'), ('Phenobarbital', 'Dexamethasone'), ('Phenobarbital', 'Medroxyproges. Ac.'), ('Phenobarbital', 'Levonorgestrel'), ('Phenobarbital', 'Estrogens Conj.'), ('Phenobarbital', 'Ethinyl Estradiol'), ('Phenobarbital', 'Estradiol'), ('Phenobarbital', 'Aminophylline'), ('Hydrocortisone', 'Phenytoin'), ('Hydrocortisone', 'ASA'), ('Phenytoin', 'Ciprofloxacin'), ('Phenytoin', 'Aminophylline'), ('Phenytoin', 'Furosemide'), ('Phenytoin', 'Levodopa'), ('Phenytoin', 'Trimethoprim'), ('Phenytoin', 'Sulfadiazine'), ('Phenytoin', 'Estrogens Conj.'), ('Phenytoin', 'Amiodarone'), ('Phenytoin', 'Omeprazole'), ('Phenytoin', 'Fluconazole'), ('Phenytoin', 'Dexamethasone'), ('Phenytoin', 'Prednisolone'), ('Phenytoin', 'Diazepam'), ('Phenytoin', 'Norethisterone'), ('Phenytoin', 'Prednisone'), ('Phenytoin', 'Fluoxetine'), ('Phenytoin', 'Levonorgestrel'), ('Phenytoin', 'Doxycycline'), ('Phenytoin', 'Estradiol'), ('Phenytoin', 'Ethinyl Estradiol'), ('Phenytoin', 'Warfarin'), ('Phenytoin', 'Medroxyproges. Ac.'), ('Phenytoin', 'Folic acid'), ('Warfarin', 'Ciprofloxacin'), ('Warfarin', 'Diclofenac'), ('Warfarin', 'Azithromycin'), ('Warfarin', 'Acetaminophen'), ('Warfarin', 'Allopurinol'), ('Warfarin', 'Fluconazole'), ('Warfarin', 'Propylthiouracil'), ('Warfarin', 'Medroxyproges. Ac.'), ('Warfarin', 'Prednisone'), ('Warfarin', 'Levothyroxine'), ('Warfarin', 'Doxycycline'), ('Warfarin', 'Carbamazepine'), ('Warfarin', 'Fluoxetine'), ('Ciprofloxacin', 'Aminophylline'), ('Ciprofloxacin', 'Iron (II) Sulfate'), ('Metronidazole', 'Lithium'), ('Metronidazole', 'Carbamazepine'), ('Aminophylline', 'Erythromycin'), ('Aminophylline', 'Timolol'), ('Aminophylline', 'Norfloxacin'), ('Aminophylline', 'Lithium'), ('Aminophylline', 'Ethinyl Estradiol'), ('Aminophylline', 'Propranolol'), ('Aminophylline', 'Carbamazepine'), ('Erythromycin', 'Carbamazepine'), ('Erythromycin', 'Diazepam'), ('Erythromycin', 'Fluoxetine'), ('Erythromycin', 'Simvastatin'), ('Timolol', 'Fenoterol'), ('Timolol', 'Ibuprofen'), ('Timolol', 'Glyburide'), ('Timolol', 'Salbutamol'), ('Timolol', 'Gliclazide'), ('Timolol', 'Methyldopa'), ('Fenoterol', 'Atenolol'), ('Fenoterol', 'Methyldopa'), ('Fenoterol', 'Imipramine'), ('Fenoterol', 'Nortriptyline'), ('Fenoterol', 'Amitriptyline'), ('Fenoterol', 'Propranolol'), ('Fenoterol', 'Carvedilol'), ('Carbamazepine', 'Fluconazole'), ('Carbamazepine', 'Diltiazem'), ('Carbamazepine', 'Ethinyl Estradiol'), ('Carbamazepine', 'Methylphenidate'), ('Carbamazepine', 'Doxycycline'), ('Carbamazepine', 'Verapamil'), ('Carbamazepine', 'Levonorgestrel'), ('Carbamazepine', 'Norethisterone'), ('Carbamazepine', 'Imipramine'), ('Carbamazepine', 'Amitriptyline'), ('Carbamazepine', 'Fluoxetine'), ('Carbamazepine', 'Haloperidol'), ('Carbamazepine', 'Simvastatin'), ('Carbamazepine', 'Nortriptyline'), ('Lithium', 'Ibuprofen'), ('Lithium', 'Enalapril'), ('Lithium', 'Captopril'), ('Lithium', 'Losartan'), ('Lithium', 'Hydrochlorothiazide'), ('Lithium', 'Fluoxetine'), ('Lithium', 'Haloperidol'), ('Epinephrine', 'Atenolol'), ('Atenolol', 'Verapamil'), ('Atenolol', 'Ibuprofen'), ('Atenolol', 'Diltiazem'), ('Atenolol', 'Salbutamol'), ('Atenolol', 'Gliclazide'), ('Atenolol', 'Glyburide'), ('Diazepam', 'Digoxin'), ('Diazepam', 'Omeprazole'), ('Diazepam', 'Fluconazole'), ('Ibuprofen', 'Furosemide'), ('Ibuprofen', 'Propranolol'), ('Ibuprofen', 'Carvedilol'), ('Ibuprofen', 'ASA'), ('Diclofenac', 'Alendronate'), ('Fluconazole', 'Haloperidol'), ('Fluconazole', 'Clonazepam'), ('Fluconazole', 'Imipramine'), ('Fluconazole', 'Amitriptyline'), ('Fluconazole', 'Nortriptyline'), ('Fluconazole', 'Simvastatin'), ('Prednisolone', 'Estradiol'), ('Prednisolone', 'ASA'), ('Prednisolone', 'Ethinyl Estradiol'), ('Prednisolone', 'Estrogens Conj.'), ('Diltiazem', 'Amlodipine'), ('Diltiazem', 'Propranolol'), ('Diltiazem', 'Amiodarone'), ('Diltiazem', 'Simvastatin'), ('Furosemide', 'Tobramycin'), ('Furosemide', 'Gentamicin'), ('Furosemide', 'Digoxin'), ('Haloperidol', 'Biperiden'), ('Haloperidol', 'Propranolol'), ('Haloperidol', 'Methyldopa'), ('Fluoxetine', 'Carvedilol'), ('Fluoxetine', 'Propranolol'), ('Fluoxetine', 'Nortriptyline'), ('Fluoxetine', 'Imipramine'), ('Fluoxetine', 'Amitriptyline'), ('Digoxin', 'Spironolactone'), ('Digoxin', 'Verapamil'), ('Digoxin', 'Propylthiouracil'), ('Digoxin', 'Levothyroxine'), ('Digoxin', 'Amiodarone'), ('Digoxin', 'Hydrochlorothiazide'), ('Digoxin', 'Carvedilol'), ('Levodopa', 'Metoclopramide'), ('Levodopa', 'Methyldopa'), ('Iron (II) Sulfate', 'Levothyroxine'), ('Iron (II) Sulfate', 'Doxycycline'), ('Iron (II) Sulfate', 'Methyldopa'), ('Iron (II) Sulfate', 'Norfloxacin'), ('Prednisone', 'Ethinyl Estradiol'), ('Prednisone', 'Estradiol'), ('Prednisone', 'Estrogens Conj.'), ('Prednisone', 'ASA'), ('Methyldopa', 'Salbutamol'), ('Methyldopa', 'Propranolol'), ('Propranolol', 'Chlorpromazine'), ('Propranolol', 'Maprotiline'), ('Propranolol', 'Verapamil'), ('Propranolol', 'Salbutamol'), ('Propranolol', 'Gliclazide'), ('Propranolol', 'Glyburide'), ('Ethinyl Estradiol', 'Amoxicillin'), ('Ethinyl Estradiol', 'Clavulanate'), ('Ethinyl Estradiol', 'Doxycycline'), ('ASA', 'Gliclazide'), ('ASA', 'Dexamethasone'), ('ASA', 'Glyburide'), ('Clonazepam', 'Omeprazole'), ('Glyburide', 'Carvedilol'), ('Amoxicillin', 'Doxycycline'), ('Doxycycline', 'Clavulanate'), ('Imipramine', 'Salbutamol'), ('Salbutamol', 'Nortriptyline'), ('Salbutamol', 'Amitriptyline'), ('Gliclazide', 'Carvedilol')])"
      ]
     },
     "execution_count": 38,
     "metadata": {},
     "output_type": "execute_result"
    }
   ],
   "source": [
    "G.edges"
   ]
  },
  {
   "cell_type": "code",
   "execution_count": 40,
   "id": "c012a702-bfaa-4bc8-99bc-33fa2c768265",
   "metadata": {},
   "outputs": [
    {
     "data": {
      "text/plain": [
       "{'weight': 395714000000}"
      ]
     },
     "execution_count": 40,
     "metadata": {},
     "output_type": "execute_result"
    }
   ],
   "source": [
    "G['Phenytoin']['Fluconazole']"
   ]
  },
  {
   "cell_type": "code",
   "execution_count": 42,
   "id": "1572c7de-718c-4e45-8b78-4ad1116f027e",
   "metadata": {},
   "outputs": [
    {
     "data": {
      "text/plain": [
       "'Graph with 75 nodes and 181 edges'"
      ]
     },
     "execution_count": 42,
     "metadata": {},
     "output_type": "execute_result"
    }
   ],
   "source": [
    "nx.info(G)"
   ]
  },
  {
   "cell_type": "code",
   "execution_count": 58,
   "id": "2d467b7d-4b89-462b-af06-9533b14c1ec0",
   "metadata": {},
   "outputs": [],
   "source": [
    "dgm = rng.diagram(G)"
   ]
  },
  {
   "cell_type": "code",
   "execution_count": 59,
   "id": "5003e06c-3ead-4586-a8e1-ad4d28c25de2",
   "metadata": {},
   "outputs": [
    {
     "data": {
      "text/plain": [
       "0.12671574122887186"
      ]
     },
     "execution_count": 59,
     "metadata": {},
     "output_type": "execute_result"
    }
   ],
   "source": [
    "rng.ring_score(dgm)"
   ]
  },
  {
   "cell_type": "code",
   "execution_count": null,
   "id": "c2d3432c-6743-4f0c-8d0c-05b456e249af",
   "metadata": {},
   "outputs": [],
   "source": []
  }
 ],
 "metadata": {
  "kernelspec": {
   "display_name": "Python 3 (ipykernel)",
   "language": "python",
   "name": "python3"
  },
  "language_info": {
   "codemirror_mode": {
    "name": "ipython",
    "version": 3
   },
   "file_extension": ".py",
   "mimetype": "text/x-python",
   "name": "python",
   "nbconvert_exporter": "python",
   "pygments_lexer": "ipython3",
   "version": "3.7.11"
  }
 },
 "nbformat": 4,
 "nbformat_minor": 5
}
