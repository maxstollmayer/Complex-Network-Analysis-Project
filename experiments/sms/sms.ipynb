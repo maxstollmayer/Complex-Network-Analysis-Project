{
 "cells": [
  {
   "cell_type": "code",
   "execution_count": 2,
   "metadata": {},
   "outputs": [],
   "source": [
    "import networkx as nx\n",
    "import ringity"
   ]
  },
  {
   "cell_type": "code",
   "execution_count": 4,
   "metadata": {},
   "outputs": [
    {
     "name": "stderr",
     "output_type": "stream",
     "text": [
      "C:\\Users\\maxst\\AppData\\Local\\Temp\\ipykernel_6460\\97613654.py:3: DeprecationWarning: info is deprecated and will be removed in version 3.0.\n",
      "\n",
      "  nx.info(G)\n"
     ]
    },
    {
     "data": {
      "text/plain": [
       "'Graph with 568 nodes and 697 edges'"
      ]
     },
     "execution_count": 4,
     "metadata": {},
     "output_type": "execute_result"
    }
   ],
   "source": [
    "diG = nx.read_weighted_edgelist(\"experiments/sms/edges.csv\", delimiter=\",\", comments=\"#\", nodetype=int, create_using=nx.DiGraph)\n",
    "G = diG.to_undirected()\n",
    "nx.info(G)"
   ]
  },
  {
   "cell_type": "code",
   "execution_count": 6,
   "metadata": {},
   "outputs": [
    {
     "name": "stderr",
     "output_type": "stream",
     "text": [
      "C:\\Users\\maxst\\AppData\\Local\\Temp\\ipykernel_6460\\837636789.py:3: DeprecationWarning: info is deprecated and will be removed in version 3.0.\n",
      "\n",
      "  nx.info(C)\n"
     ]
    },
    {
     "data": {
      "text/plain": [
       "'Graph with 457 nodes and 628 edges'"
      ]
     },
     "execution_count": 6,
     "metadata": {},
     "output_type": "execute_result"
    }
   ],
   "source": [
    "view = max(nx.connected_components(G), key=len)\n",
    "C = nx.subgraph(G, view)\n",
    "nx.info(C)"
   ]
  },
  {
   "cell_type": "code",
   "execution_count": 7,
   "metadata": {},
   "outputs": [
    {
     "name": "stderr",
     "output_type": "stream",
     "text": [
      "c:\\Users\\maxst\\Repositories\\Complex-Network-Analysis-Project\\.venv\\lib\\site-packages\\ringity\\centralities.py:60: FutureWarning: adjacency_matrix will return a scipy.sparse array instead of a matrix in Networkx 3.0.\n",
      "  A = nx.adjacency_matrix(G)\n"
     ]
    },
    {
     "data": {
      "text/plain": [
       "0.17541029708212863"
      ]
     },
     "execution_count": 7,
     "metadata": {},
     "output_type": "execute_result"
    },
    {
     "data": {
      "image/png": "[encoded data removed]",
      "text/plain": [
       "<Figure size 432x288 with 1 Axes>"
      ]
     },
     "metadata": {
      "needs_background": "light"
     },
     "output_type": "display_data"
    }
   ],
   "source": [
    "dgm = ringity.diagram(C, metric=\"net_flow\")\n",
    "ringity.plot_dgm(dgm)\n",
    "dgm.ring_score()"
   ]
  },
  {
   "cell_type": "code",
   "execution_count": null,
   "metadata": {},
   "outputs": [],
   "source": []
  }
 ],
 "metadata": {
  "kernelspec": {
   "display_name": "Python 3.9.12 ('.venv': venv)",
   "language": "python",
   "name": "python3"
  },
  "language_info": {
   "codemirror_mode": {
    "name": "ipython",
    "version": 3
   },
   "file_extension": ".py",
   "mimetype": "text/x-python",
   "name": "python",
   "nbconvert_exporter": "python",
   "pygments_lexer": "ipython3",
   "version": "3.9.12"
  },
  "orig_nbformat": 4,
  "vscode": {
   "interpreter": {
    "hash": "9af5155ff6e2d23820f21b551b0b350456a2401753cdb8571075c112fd19de52"
   }
  }
 },
 "nbformat": 4,
 "nbformat_minor": 2
}
