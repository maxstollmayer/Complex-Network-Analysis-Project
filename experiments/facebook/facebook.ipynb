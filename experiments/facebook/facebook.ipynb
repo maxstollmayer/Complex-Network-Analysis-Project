{
 "cells": [
  {
   "cell_type": "code",
   "execution_count": 1,
   "id": "899e18f7-3c97-4ad2-8944-9f89a62d8eeb",
   "metadata": {},
   "outputs": [],
   "source": [
    "import networkx as nx\n",
    "import ringity as rng"
   ]
  },
  {
   "cell_type": "code",
   "execution_count": 2,
   "id": "a523045a-2802-4bee-a0ea-7ee5b4e5bcfe",
   "metadata": {},
   "outputs": [
    {
     "data": {
      "text/plain": [
       "'Graph with 4039 nodes and 88234 edges'"
      ]
     },
     "execution_count": 2,
     "metadata": {},
     "output_type": "execute_result"
    }
   ],
   "source": [
    "G = nx.read_edgelist('experiments/facebook/facebook_combined.txt')\n",
    "nx.info(G)"
   ]
  },
  {
   "cell_type": "code",
   "execution_count": 16,
   "id": "a7b19f03-6538-4bee-9471-97d9474f4f81",
   "metadata": {},
   "outputs": [],
   "source": [
    "#computationally not feasible, needs to calculate SPL as well\n",
    "\n",
    "#dgm = rng.diagram(G)\n",
    "#score = rng.ring_score(dgm)\n",
    "#score"
   ]
  },
  {
   "cell_type": "code",
   "execution_count": 17,
   "id": "f3e3a9bb-03be-4ba1-a4fc-095dc24be9bc",
   "metadata": {},
   "outputs": [],
   "source": [
    "comps = nx.connected_components(G)"
   ]
  },
  {
   "cell_type": "code",
   "execution_count": 18,
   "id": "4196f1ff-fc79-4387-b125-a513b07f5574",
   "metadata": {},
   "outputs": [
    {
     "data": {
      "text/plain": [
       "1"
      ]
     },
     "execution_count": 18,
     "metadata": {},
     "output_type": "execute_result"
    }
   ],
   "source": [
    "len([i for i in comps])"
   ]
  },
  {
   "cell_type": "code",
   "execution_count": null,
   "id": "fe283084-7fcf-42d7-9c53-b1ab275ee818",
   "metadata": {},
   "outputs": [],
   "source": []
  }
 ],
 "metadata": {
  "kernelspec": {
   "display_name": "Python 3 (ipykernel)",
   "language": "python",
   "name": "python3"
  },
  "language_info": {
   "codemirror_mode": {
    "name": "ipython",
    "version": 3
   },
   "file_extension": ".py",
   "mimetype": "text/x-python",
   "name": "python",
   "nbconvert_exporter": "python",
   "pygments_lexer": "ipython3",
   "version": "3.7.11"
  }
 },
 "nbformat": 4,
 "nbformat_minor": 5
}
