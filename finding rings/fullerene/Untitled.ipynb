{
 "cells": [
  {
   "cell_type": "code",
   "execution_count": 1,
   "id": "62151c01-86a6-42ca-b94e-2cd9f763a804",
   "metadata": {},
   "outputs": [],
   "source": [
    "import networkx as nx\n",
    "import ringity as rng"
   ]
  },
  {
   "cell_type": "code",
   "execution_count": 19,
   "id": "c41bd3ba-3dde-421d-abd9-e9690e52562c",
   "metadata": {},
   "outputs": [],
   "source": [
    "vals = [60,180,240,260,320,500,540,720] #960,1500,2160,2940,3840,4860,6000 take too much time"
   ]
  },
  {
   "cell_type": "code",
   "execution_count": 39,
   "id": "f120f405-42fe-4e25-bf41-28294afe2ba3",
   "metadata": {},
   "outputs": [],
   "source": [
    "scores = []\n",
    "for i in vals:\n",
    "    G = nx.read_gml(f'Fullerene C{i}.gml')\n",
    "    dgm = rng.diagram(G)\n",
    "    score = rng.ring_score(dgm)\n",
    "    scores.append(score)"
   ]
  },
  {
   "cell_type": "code",
   "execution_count": 40,
   "id": "2c3e9994-7965-47fd-a8d0-d885eedba130",
   "metadata": {},
   "outputs": [
    {
     "data": {
      "text/plain": [
       "[9.313225746154785e-10,\n",
       " 4.753049198669146e-08,\n",
       " 1.2470457999569362e-10,\n",
       " 1.3446910251957434e-10,\n",
       " 1.9813306550986454e-10,\n",
       " 1.4398551462235787e-08,\n",
       " 1.2372114444048066e-10,\n",
       " 1.305172636634211e-10]"
      ]
     },
     "execution_count": 40,
     "metadata": {},
     "output_type": "execute_result"
    }
   ],
   "source": [
    "scores"
   ]
  },
  {
   "cell_type": "code",
   "execution_count": null,
   "id": "1e27958e-ffa8-46ea-b6e3-ee359acfdc7d",
   "metadata": {},
   "outputs": [],
   "source": []
  }
 ],
 "metadata": {
  "kernelspec": {
   "display_name": "Python 3 (ipykernel)",
   "language": "python",
   "name": "python3"
  },
  "language_info": {
   "codemirror_mode": {
    "name": "ipython",
    "version": 3
   },
   "file_extension": ".py",
   "mimetype": "text/x-python",
   "name": "python",
   "nbconvert_exporter": "python",
   "pygments_lexer": "ipython3",
   "version": "3.7.11"
  }
 },
 "nbformat": 4,
 "nbformat_minor": 5
}
