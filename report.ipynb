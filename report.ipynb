{
 "cells": [
  {
   "cell_type": "markdown",
   "metadata": {},
   "source": [
    "# Report: Persistent Homology and Rings in Complex Networks"
   ]
  },
  {
   "cell_type": "markdown",
   "metadata": {},
   "source": [
    "## 1. Introduction"
   ]
  },
  {
   "cell_type": "markdown",
   "metadata": {},
   "source": [
    "write about rings in networks and which sources we used. why it might be important.\n",
    "\n",
    "\n",
    "what will you see in this report:\n",
    "- quick glance over the methods used and the data sources.\n",
    "- a discussion about the results and a personal reflection of the work process"
   ]
  },
  {
   "cell_type": "markdown",
   "metadata": {},
   "source": [
    "# 2. Methods"
   ]
  },
  {
   "cell_type": "markdown",
   "metadata": {},
   "source": [
    "### (i) theory"
   ]
  },
  {
   "cell_type": "markdown",
   "metadata": {},
   "source": [
    "persistent homology explained with pictures from presentation."
   ]
  },
  {
   "cell_type": "markdown",
   "metadata": {},
   "source": [
    "### (ii) code/ github"
   ]
  },
  {
   "cell_type": "markdown",
   "metadata": {},
   "source": [
    "explain VR and utils folder, and sketch the ringitiy package"
   ]
  },
  {
   "cell_type": "markdown",
   "metadata": {},
   "source": [
    "### (iii) data sources"
   ]
  },
  {
   "cell_type": "markdown",
   "metadata": {},
   "source": [
    "explain the fibroblast proximity and PPIY network and source\n",
    "\n",
    "explain the remaining github folders about the experiments and which sources we used"
   ]
  },
  {
   "cell_type": "markdown",
   "metadata": {},
   "source": [
    "# 3. Discussion"
   ]
  },
  {
   "cell_type": "markdown",
   "metadata": {},
   "source": [
    "how was the work. what did we do. what did we learn. what did we struggle with. what was our end result."
   ]
  },
  {
   "cell_type": "markdown",
   "metadata": {},
   "source": []
  }
 ],
 "metadata": {
  "language_info": {
   "name": "python"
  },
  "orig_nbformat": 4
 },
 "nbformat": 4,
 "nbformat_minor": 2
}
