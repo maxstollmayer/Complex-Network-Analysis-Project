{
 "cells": [
  {
   "cell_type": "markdown",
   "metadata": {},
   "source": [
    "# Report: Persistent Homology and Rings in Complex Networks"
   ]
  },
  {
   "cell_type": "markdown",
   "metadata": {},
   "source": [
    "## 1. Introduction"
   ]
  },
  {
   "cell_type": "markdown",
   "metadata": {},
   "source": [
    "In recent decades the study of complex networks has taken a surge in scientific development. This originates from the analysis of complex networks featuring prominently in the study of dynamics of biological or social systems, where connections between the characteristics of systems have been made to the properties of the corresponding network.\n",
    "\n",
    "Recently there were links drawn between the regulation of lipids and their circular network structure, indicating that global ring structures play a significant role in understanding biological processes, see [<a href=\"https://www.sciencedirect.com/science/article/pii/S0092867415006418\">Marielle S. Köberlin, Berend Snijder, Leonhard X. Heinz, Christoph L. Baumann, Astrid Fauster, Gregory I. Vladimer, Anne-Claude Gavin, Giulio Superti-Furga,\n",
    "A Conserved Circular Network of Coregulated Lipids Modulates Innate Immune Responses</a>].\n",
    "\n",
    "Furthermore recent techniques from computational topology, namely \"persistent homology\", were developed to record topological structures in data. This technique differs from classical community detection in networks, where different thresholds are optimized to find specific structures. Instead the network gets analyzed over a wide range of threshholds to record changes in the network properties. Historically this technique was not developed for networks specifically, but it turns out to be effectively applied in the study of complex networks. There are numerous examples of different applications see for example.[<a href=\"https://arxiv.org/pdf/0811.2203.pdf\">Danijela Horak, S. Maletić, M. Rajković; Persistent homology of complex networks</a>]\n",
    "\n",
    "The aim of this project was to give a presentation in the form of a video, explaining the combination of persistent homology and its application of detecting ring structures in networks.\n",
    "This report will therefore briefly discuss the methods and data sources used, in particular a guide to our project's corresponding github repository will be given [<a href=\"https://github.com/maxstolly/Complex-Network-Analysis-Project\">GitHub link</a>]. Furthermore the report closes with a discussion about the results and the personal experiences of the work-process."
   ]
  },
  {
   "cell_type": "markdown",
   "metadata": {},
   "source": [
    "# 2. Methods"
   ]
  },
  {
   "cell_type": "markdown",
   "metadata": {},
   "source": [
    "### (i) theory"
   ]
  },
  {
   "cell_type": "markdown",
   "metadata": {},
   "source": [
    "We start with a weighted Graph $G = (V, E)$ with weights $(\\omega_e)_{e \\in E}$. For a threshold $\\tau$ the weighted Graph $G$ gives an unweighted Graph $\\tilde G (\\tau)$ by simply deleting all the edges with weight $\\omega > \\tau$. Doing this iteratively for a sequence of weights $\\tau_0 < \\tau_1 < \\tau_2 < ...$ gives a so-called $Graph filtration:$ $\\tilde G (\\tau_0) \\subseteq \\tilde G (\\tau_1) \\subseteq \\tilde G (\\tau_2) \\subseteq ...$. From this Graph filtration a filtration of $simplical \\ comlexes$ is constructed to record topoligcal information in higher dimensional spaces, most commonly used is the $Vietoris-Rips-Complex$. For further information, see also [<a href=\"https://www.researchgate.net/publication/243073634_Topology_and_Data\">Gunnar Carlsson, Topology and Data</a>].\n",
    "\n",
    "We will start by an simple example to visualize rings are detected in point clouds of euclidean spaces. Note that distances in complex networks may not be euclidean, but distances of nodes in networks are given by the weights of the edges. If no weights are existent, they can be artifically be assigned through the means of a centrality measure."
   ]
  },
  {
   "cell_type": "markdown",
   "metadata": {},
   "source": [
    "#### Example\n",
    "\n",
    "Starting with a pointcloud in euclidean space,\n",
    "\n",
    "<img src=\"presentation2/point_cloud.png\">\n",
    "\n",
    "we blow up spheres around the points, and connect edges where spheres overlap in a ring form.\n",
    "\n",
    "<img src=\"presentation2/little_hole_birth.png\">\n",
    "\n",
    "By increasing the radius of the spheres, overlapping increases to the whole area between nodes, destroying the ring just found\n",
    "\n",
    "<img src=\"presentation2/big_hole_birth.png\">\n",
    "\n",
    "while letting new structures emerge:\n",
    "\n",
    "<img src=\"presentation2/big_hole_persist.png\">\n",
    "\n",
    "Some structures might persist for a longer amount of time (i.e. a wider range of thresholds) but ultimately die out at some point:\n",
    "\n",
    "<img src=\"presentation2/big_hole_death.png\">\n",
    "\n",
    "The process of death and birth of structures is then encoded in form of a persistence diagram:\n",
    "\n",
    "<img src=\"presentation2/big_hole_death_dgm.png\">\n",
    "\n",
    "\n",
    "\n"
   ]
  },
  {
   "cell_type": "markdown",
   "metadata": {},
   "source": [
    "The size of a hole is then given by the amount of time the structure persisted.\n",
    "\n",
    "This final diagram can then be interpreted to construct a $ring score$ by following the following scheme:\n",
    "1. Ordering hole sizes $p_0 > p_1 > ...$\n",
    "2. Normalizing differences $h_i = \\frac{p_0 - p_i}{p_0}$ by the size of the biggest hole.\n",
    "3. Calculating a weighted sum $S = \\sum_{i} \\frac{h_i}{2^i}$ of this normalized differences to obtain a ring score $S$\n",
    "\n",
    "This ring score $S$ lies in $(0,1)$ where $S \\sim 0$ indicates a lack of ring structure, while $S \\sim 1$ indicates a very ring-like structure."
   ]
  },
  {
   "cell_type": "markdown",
   "metadata": {},
   "source": [
    "### (ii) code/ github"
   ]
  },
  {
   "cell_type": "markdown",
   "metadata": {},
   "source": [
    "explain VR and utils folder, and sketch the ringitiy package"
   ]
  },
  {
   "cell_type": "markdown",
   "metadata": {},
   "source": [
    "### (iii) data sources"
   ]
  },
  {
   "cell_type": "markdown",
   "metadata": {},
   "source": [
    "explain the fibroblast proximity and PPIY network and source\n",
    "\n",
    "explain the remaining github folders about the experiments and which sources we used"
   ]
  },
  {
   "cell_type": "markdown",
   "metadata": {},
   "source": [
    "# 3. Discussion"
   ]
  },
  {
   "cell_type": "markdown",
   "metadata": {},
   "source": [
    "how was the work. what did we do. what did we learn. what did we struggle with. what was our end result."
   ]
  },
  {
   "cell_type": "markdown",
   "metadata": {},
   "source": []
  }
 ],
 "metadata": {
  "language_info": {
   "name": "python"
  },
  "orig_nbformat": 4
 },
 "nbformat": 4,
 "nbformat_minor": 2
}
