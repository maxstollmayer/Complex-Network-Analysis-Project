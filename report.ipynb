{
 "cells": [
  {
   "cell_type": "markdown",
   "metadata": {},
   "source": [
    "# Report: Persistent Homology and Rings in Complex Networks"
   ]
  },
  {
   "cell_type": "markdown",
   "metadata": {},
   "source": [
    "## 1. Introduction"
   ]
  },
  {
   "cell_type": "markdown",
   "metadata": {},
   "source": [
    "In recent decades the study of complex networks has taken a surge in scientific development. This originates from the analysis of complex networks featuring prominently in the study of dynamics of biological or social systems, where connections between the characteristics of systems have been made to the properties of the corresponding network.\n",
    "\n",
    "Recently there were links drawn between the regulation of lipids and their circular network structure, indicating that global ring structures play a significant role in understanding biological processes, see [<a href=\"https://www.sciencedirect.com/science/article/pii/S0092867415006418\">Marielle S. Köberlin, Berend Snijder, Leonhard X. Heinz, Christoph L. Baumann, Astrid Fauster, Gregory I. Vladimer, Anne-Claude Gavin, Giulio Superti-Furga,\n",
    "A Conserved Circular Network of Coregulated Lipids Modulates Innate Immune Responses</a>].\n",
    "\n",
    "Furthermore recent techniques from computational topology, namely \"persistent homology\", were developed to record topological structures in data. This technique differs from classical community detection in networks, where different thresholds are optimized to find specific structures. Instead the network gets analyzed over a wide range of threshholds to record changes in the network properties. Historically this technique was not developed for networks specifically, but it turns out to be effectively applied in the study of complex networks. There are numerous examples of different applications see for example.[<a href=\"https://arxiv.org/pdf/0811.2203.pdf\">Danijela Horak, S. Maletić, M. Rajković; Persistent homology of complex networks</a>]\n",
    "\n",
    "The aim of this project was to give a presentation in the form of a video, explaining the combination of persistent homology and its application of detecting ring structures in networks.\n",
    "This report will therefore briefly discuss the methods and data sources used, in particular a guide to our project's corresponding github repository will be given [<a href=\"https://github.com/maxstolly/Complex-Network-Analysis-Project\">GitHub link</a>]. Furthermore the report closes with a discussion about the results and the personal experiences of the work-process."
   ]
  },
  {
   "cell_type": "markdown",
   "metadata": {},
   "source": [
    "# 2. Methods"
   ]
  },
  {
   "cell_type": "markdown",
   "metadata": {},
   "source": [
    "### (i) theory"
   ]
  },
  {
   "cell_type": "markdown",
   "metadata": {},
   "source": [
    "persistent homology explained with pictures from presentation."
   ]
  },
  {
   "cell_type": "markdown",
   "metadata": {},
   "source": [
    "### (ii) code/ github"
   ]
  },
  {
   "cell_type": "markdown",
   "metadata": {},
   "source": [
    "explain VR and utils folder, and sketch the ringitiy package"
   ]
  },
  {
   "cell_type": "markdown",
   "metadata": {},
   "source": [
    "### (iii) data sources"
   ]
  },
  {
   "cell_type": "markdown",
   "metadata": {},
   "source": [
    "explain the fibroblast proximity and PPIY network and source\n",
    "\n",
    "explain the remaining github folders about the experiments and which sources we used"
   ]
  },
  {
   "cell_type": "markdown",
   "metadata": {},
   "source": [
    "# 3. Discussion"
   ]
  },
  {
   "cell_type": "markdown",
   "metadata": {},
   "source": [
    "how was the work. what did we do. what did we learn. what did we struggle with. what was our end result."
   ]
  },
  {
   "cell_type": "markdown",
   "metadata": {},
   "source": []
  }
 ],
 "metadata": {
  "language_info": {
   "name": "python"
  },
  "orig_nbformat": 4
 },
 "nbformat": 4,
 "nbformat_minor": 2
}
