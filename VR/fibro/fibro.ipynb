{
 "cells": [
  {
   "cell_type": "code",
   "execution_count": 1,
   "id": "65e6a6f8-d6e6-4a3e-bb71-050f14311194",
   "metadata": {},
   "outputs": [],
   "source": [
    "import ringity as rng\n",
    "import networkx as nx\n",
    "import pandas as pd\n",
    "from scipy.spatial.distance import pdist, squareform\n",
    "import numpy as np\n",
    "import matplotlib.pyplot as plt\n",
    "\n",
    "from utils.layout import Layout"
   ]
  },
  {
   "cell_type": "code",
   "execution_count": 2,
   "id": "9871c3dd-8bf3-44b4-b1a3-a5b2085bee84",
   "metadata": {},
   "outputs": [],
   "source": [
    "FIBRO_FILE = \"VR/fibro/connectivity_FLS11_data.xls\"\n",
    "\n",
    "name = \"FLS18 TNF\""
   ]
  },
  {
   "cell_type": "code",
   "execution_count": 3,
   "id": "5076d57e-d46e-43db-91de-c817e365493a",
   "metadata": {},
   "outputs": [],
   "source": [
    "d = 115 # threshold\n",
    "\n",
    "fibro_position_df = pd.read_excel(FIBRO_FILE, sheet_name=name)\n",
    "D_fibro = squareform(pdist(fibro_position_df[['Position X','Position Y','Position Z']])) # distance matrix\n",
    "\n",
    "G_fibro = nx.from_numpy_array(np.where(D_fibro > d,0,1)) # create (unweighted) network \n",
    "G_fibro = G_fibro.subgraph(max(nx.connected_components(G_fibro), key=len)).copy() # get lcc, in case threshold was chosen too low\n",
    "    \n",
    "pos = nx.spring_layout(G_fibro, dim=3)"
   ]
  },
  {
   "cell_type": "code",
   "execution_count": 4,
   "id": "7f4b1a44-9eec-4210-b764-d60ec00abbd4",
   "metadata": {},
   "outputs": [
    {
     "data": {
      "text/plain": [
       "'Graph with 403 nodes and 6866 edges'"
      ]
     },
     "execution_count": 4,
     "metadata": {},
     "output_type": "execute_result"
    }
   ],
   "source": [
    "G_fibro.remove_edges_from(nx.selfloop_edges(G_fibro))\n",
    "nx.info(G_fibro)"
   ]
  },
  {
   "cell_type": "code",
   "execution_count": 5,
   "id": "927a28a3-68ad-4983-9e50-21218c8bbf14",
   "metadata": {},
   "outputs": [],
   "source": [
    "layout = Layout(G_fibro, pos, node_colors=[(248, 177, 0, 100)], edge_colors=[(248, 177, 0, 100)])"
   ]
  },
  {
   "cell_type": "code",
   "execution_count": 6,
   "id": "e70b2a9f",
   "metadata": {},
   "outputs": [],
   "source": [
    "#layout.write(\"VR/fibro/fibro\")"
   ]
  },
  {
   "cell_type": "code",
   "execution_count": 10,
   "id": "38fc55ae-f10c-4755-bd1e-270d69b350ca",
   "metadata": {},
   "outputs": [
    {
     "data": {
      "image/png": "[encoded data removed]",
      "text/plain": [
       "<Figure size 432x288 with 1 Axes>"
      ]
     },
     "metadata": {
      "needs_background": "light"
     },
     "output_type": "display_data"
    }
   ],
   "source": [
    "dgm = rng.diagram(G_fibro)\n",
    "rng.plot_dgm(dgm)\n",
    "rng.ring_score(dgm)\n",
    "plt.savefig(\"fibro_diagram.jpg\")"
   ]
  },
  {
   "cell_type": "code",
   "execution_count": null,
   "id": "7ee10210",
   "metadata": {},
   "outputs": [],
   "source": []
  }
 ],
 "metadata": {
  "interpreter": {
   "hash": "cc9ab29e3788136e4e95e094359195dadbb3f32e5aec8d332b46bcb5ba542d6c"
  },
  "kernelspec": {
   "display_name": "Python 3.7.11 ('base')",
   "language": "python",
   "name": "python3"
  },
  "language_info": {
   "codemirror_mode": {
    "name": "ipython",
    "version": 3
   },
   "file_extension": ".py",
   "mimetype": "text/x-python",
   "name": "python",
   "nbconvert_exporter": "python",
   "pygments_lexer": "ipython3",
   "version": "3.7.11"
  },
  "vscode": {
   "interpreter": {
    "hash": "9af5155ff6e2d23820f21b551b0b350456a2401753cdb8571075c112fd19de52"
   }
  }
 },
 "nbformat": 4,
 "nbformat_minor": 5
}
