{
 "cells": [
  {
   "cell_type": "markdown",
   "metadata": {},
   "source": [
    "# Toy Network"
   ]
  },
  {
   "cell_type": "code",
   "execution_count": 1,
   "metadata": {},
   "outputs": [
    {
     "ename": "ModuleNotFoundError",
     "evalue": "No module named 'aliases'",
     "output_type": "error",
     "traceback": [
      "\u001b[1;31m---------------------------------------------------------------------------\u001b[0m",
      "\u001b[1;31mModuleNotFoundError\u001b[0m                       Traceback (most recent call last)",
      "\u001b[1;32m~\\AppData\\Local\\Temp/ipykernel_14184/1129710672.py\u001b[0m in \u001b[0;36m<module>\u001b[1;34m\u001b[0m\n\u001b[0;32m      4\u001b[0m \u001b[1;33m\u001b[0m\u001b[0m\n\u001b[0;32m      5\u001b[0m \u001b[1;32mfrom\u001b[0m \u001b[0mutils\u001b[0m\u001b[1;33m.\u001b[0m\u001b[0mlayout\u001b[0m \u001b[1;32mimport\u001b[0m \u001b[0mLayout\u001b[0m\u001b[1;33m\u001b[0m\u001b[1;33m\u001b[0m\u001b[0m\n\u001b[1;32m----> 6\u001b[1;33m \u001b[1;32mfrom\u001b[0m \u001b[0mutils\u001b[0m\u001b[1;33m.\u001b[0m\u001b[0mspheres\u001b[0m \u001b[1;32mimport\u001b[0m \u001b[0mspheres\u001b[0m\u001b[1;33m,\u001b[0m \u001b[0mspherical_graph\u001b[0m\u001b[1;33m\u001b[0m\u001b[1;33m\u001b[0m\u001b[0m\n\u001b[0m",
      "\u001b[1;32mc:\\Users\\Visual\\Documents\\GitHub\\Complex-Network-Analysis-Project\\utils\\spheres.py\u001b[0m in \u001b[0;36m<module>\u001b[1;34m\u001b[0m\n\u001b[0;32m      8\u001b[0m \u001b[1;32mimport\u001b[0m \u001b[0mnumpy\u001b[0m \u001b[1;32mas\u001b[0m \u001b[0mnp\u001b[0m\u001b[1;33m\u001b[0m\u001b[1;33m\u001b[0m\u001b[0m\n\u001b[0;32m      9\u001b[0m \u001b[1;33m\u001b[0m\u001b[0m\n\u001b[1;32m---> 10\u001b[1;33m \u001b[1;32mfrom\u001b[0m \u001b[0maliases\u001b[0m \u001b[1;32mimport\u001b[0m \u001b[0mGraph\u001b[0m\u001b[1;33m,\u001b[0m \u001b[0mPosition\u001b[0m\u001b[1;33m,\u001b[0m \u001b[0mPositions\u001b[0m\u001b[1;33m\u001b[0m\u001b[1;33m\u001b[0m\u001b[0m\n\u001b[0m\u001b[0;32m     11\u001b[0m \u001b[1;32mfrom\u001b[0m \u001b[0mpreview\u001b[0m \u001b[1;32mimport\u001b[0m \u001b[0mpreview\u001b[0m\u001b[1;33m\u001b[0m\u001b[1;33m\u001b[0m\u001b[0m\n\u001b[0;32m     12\u001b[0m \u001b[1;33m\u001b[0m\u001b[0m\n",
      "\u001b[1;31mModuleNotFoundError\u001b[0m: No module named 'aliases'"
     ]
    }
   ],
   "source": [
    "from matplotlib import pyplot as plt\n",
    "import numpy as np\n",
    "import networkx as nx\n",
    "\n",
    "from utils.layout import Layout\n",
    "from utils.spheres import spheres, spherical_graph"
   ]
  },
  {
   "cell_type": "code",
   "execution_count": 2,
   "metadata": {},
   "outputs": [],
   "source": [
    "# SETTINGS\n",
    "\n",
    "# scene parameters\n",
    "dim = 3\n",
    "samples = 50\n",
    "start_radius = 0.2\n",
    "end_radius = 1.1\n",
    "step_size = 0.05\n",
    "radii = np.arange(start_radius, end_radius+step_size, step_size)\n",
    "\n",
    "# point cloud parameters\n",
    "dim = 3\n",
    "rng = np.random.default_rng(1)\n",
    "n1 = 10\n",
    "n2 = 5\n",
    "perturb_amount = (0.25, 0.25, 0.5)\n",
    "scale = 0.4\n",
    "center = (0.5, 1, 0)\n",
    "\n",
    "# colors and opacities\n",
    "node_color = (102, 232, 188, 255) # turquoise\n",
    "big_hole_hue = (248, 177, 0)      # yellow\n",
    "little_hole_hue = (199, 56, 232)  # violet\n",
    "base_opacity = 0\n",
    "birth_opacity = 255\n",
    "death_opacity = 50\n",
    "wireframe_node_color = (0, 0, 0, 0)\n",
    "wireframe_edge_color = (128, 128, 128, 20)\n",
    "\n",
    "# holes thresholds\n",
    "big_hole_birth = 0.5\n",
    "big_hole_death = 1\n",
    "little_hole_birth = 0.3\n",
    "little_hole_death = 0.4\n",
    "\n",
    "# persistence diagram parameters\n",
    "figsize = (10, 5.625)\n",
    "resolution = 101\n",
    "dpi = 300\n",
    "title = \"Persistence Diagram\"\n",
    "xlabel = \"time of birth\"\n",
    "ylabel = \"time of death\"\n",
    "diag_color = \"grey\"\n",
    "\n",
    "# environment variables\n",
    "folder = \"VR/toy/\"\n",
    "prefix = \"toy_\""
   ]
  },
  {
   "cell_type": "code",
   "execution_count": 4,
   "metadata": {},
   "outputs": [],
   "source": [
    "# UTILITY FUNCTIONS\n",
    "\n",
    "def update_opacities(big_hole: int, little_hole: int) -> None:\n",
    "    \"\"\"Updates opacities of the hole edges.\"\"\"\n",
    "    layout.edge_colors = np.concatenate((\n",
    "        np.repeat([big_hole_hue + (big_hole,)], repeats=n1, axis=0),\n",
    "        np.repeat([little_hole_hue + (little_hole,)], repeats=n2, axis=0),\n",
    "        np.repeat([wireframe_edge_color], repeats=G.number_of_edges()-PC.number_of_edges(), axis=0),\n",
    "    ))\n",
    "\n",
    "def update_positions(radius: float) -> None:\n",
    "    \"\"\"Updates positions of wireframe nodes to given radius.\"\"\"\n",
    "    _, pos = spheres(PC, PC_pos, radius=radius, samples=samples, dim=dim)\n",
    "    layout.pos = pos\n",
    "\n",
    "def draw_hole(radius: float, birth: float, death: float, color, start: float) -> None:\n",
    "    \"\"\"Draws the persistence diagram line for the given radius.\"\"\"\n",
    "\n",
    "    # solid line and marker over diagonal\n",
    "    if np.allclose(radius, birth) or radius > birth:\n",
    "        ax.vlines(birth, birth, min(radius, death), color=color)\n",
    "        ax.plot(birth, min(radius, death), marker=\"o\", color=color)\n",
    "\n",
    "    # dashed vertical line under diagonal\n",
    "    if np.allclose(radius, birth) or np.allclose(radius, death) or birth < radius < death:\n",
    "        ax.vlines(birth, start, birth, color=color, linestyle=\"dashed\")\n",
    "    \n",
    "    # dashed horizontal line at death\n",
    "    if np.allclose(radius, death):\n",
    "        ax.hlines(death, start, birth, color=color, linestyle=\"dashed\")"
   ]
  },
  {
   "cell_type": "code",
   "execution_count": 107,
   "metadata": {},
   "outputs": [],
   "source": [
    "# GENERATE POINT CLOUD\n",
    "\n",
    "# network\n",
    "C1 = spherical_graph(n1, dim=2)\n",
    "C2 = spherical_graph(n2, dim=2)\n",
    "nx.relabel_nodes(C2, lambda x: x+n1, copy=False)\n",
    "PC = nx.compose(C1, C2)\n",
    "\n",
    "# first circle positions\n",
    "PC_pos = nx.circular_layout(C1, dim=dim)\n",
    "for node in C1:\n",
    "    PC_pos[node] = PC_pos[node] + perturb_amount * (0.5 - rng.random(dim))\n",
    "\n",
    "# second circle positions flipped on y axis\n",
    "pos = nx.circular_layout(C2, dim=dim, scale=scale, center=center)\n",
    "for node in C2:\n",
    "    PC_pos[node] = (pos[node] + perturb_amount * (0.5 - rng.random(dim)))[::-1]\n",
    "\n",
    "# spheres with radius 0\n",
    "G, pos = spheres(PC, PC_pos, radius=0, samples=samples, dim=dim)"
   ]
  },
  {
   "cell_type": "code",
   "execution_count": 108,
   "metadata": {},
   "outputs": [],
   "source": [
    "# GENERATE LAYOUT\n",
    "\n",
    "layout = Layout(G, pos)\n",
    "\n",
    "# set node colors\n",
    "layout.node_colors = np.concatenate((\n",
    "    np.repeat([node_color], repeats=len(PC), axis=0),                      # point cloud nodes\n",
    "    np.repeat([wireframe_node_color], repeats=(len(G) - len(PC)), axis=0), # sphere nodes\n",
    "))\n",
    "\n",
    "# set starting edge colors\n",
    "update_opacities(base_opacity, base_opacity)\n",
    "\n",
    "# save starting layout\n",
    "layout.write(folder + prefix + \"0\")"
   ]
  },
  {
   "cell_type": "code",
   "execution_count": 109,
   "metadata": {},
   "outputs": [
    {
     "data": {
      "text/plain": [
       "'\\nupdate_positions(0.4)\\nupdate_opacities(birth_opacity, birth_opacity)\\nlayout.preview(renderer=\"browser\")\\n'"
      ]
     },
     "execution_count": 109,
     "metadata": {},
     "output_type": "execute_result"
    }
   ],
   "source": [
    "# TEST DIFFERENT RADII\n",
    "# LOWER samples VALUE FOR PREVIEWING\n",
    "\n",
    "\"\"\"\n",
    "update_positions(0.4)\n",
    "update_opacities(birth_opacity, birth_opacity)\n",
    "layout.preview(renderer=\"browser\")\n",
    "\"\"\""
   ]
  },
  {
   "cell_type": "code",
   "execution_count": 110,
   "metadata": {},
   "outputs": [],
   "source": [
    "# GENERATE SCENES\n",
    "\n",
    "for i, radius in enumerate(radii):\n",
    "    # update sphere positions and reset opacities\n",
    "    update_positions(radius)\n",
    "    update_opacities(base_opacity, base_opacity)\n",
    "\n",
    "    # little hole\n",
    "    if  np.allclose(radius, little_hole_birth) or little_hole_birth < radius < little_hole_death:\n",
    "        update_opacities(base_opacity, birth_opacity)\n",
    "    if np.allclose(radius, little_hole_death):\n",
    "        update_opacities(base_opacity, death_opacity)\n",
    "\n",
    "    # big hole\n",
    "    if np.allclose(radius, big_hole_birth) or big_hole_birth < radius < big_hole_death:\n",
    "        update_opacities(birth_opacity, base_opacity)\n",
    "    if np.allclose(radius, big_hole_death):\n",
    "        update_opacities(death_opacity, base_opacity)\n",
    "    \n",
    "    # export nodes and edges\n",
    "    layout.write(folder + prefix + str(i+1))"
   ]
  },
  {
   "cell_type": "code",
   "execution_count": 5,
   "metadata": {},
   "outputs": [],
   "source": [
    "# GENERATE PERSISTENCE DIAGRAMS\n",
    "\n",
    "little_hole_color = np.array(little_hole_hue) / 256\n",
    "big_hole_color = np.array(big_hole_hue) / 256\n",
    "\n",
    "plot_start = radii[0] - step_size\n",
    "plot_end = radii[-1] + step_size\n",
    "\n",
    "for i, radius in enumerate(radii):\n",
    "\n",
    "    # prepare figure\n",
    "    fig, ax = plt.subplots(figsize=figsize)\n",
    "    ax.set_title(title)\n",
    "    ax.set_xticks(radii)\n",
    "    ax.set_yticks(radii)\n",
    "    ax.set_xlabel(xlabel)\n",
    "    ax.set_ylabel(ylabel)\n",
    "    ax.set_xlim(plot_start, plot_end)\n",
    "    ax.set_ylim(plot_start, plot_end)\n",
    "    ax.spines[\"top\"].set_visible(False)\n",
    "    ax.spines[\"right\"].set_visible(False)\n",
    "\n",
    "    # diagonal\n",
    "    line = np.linspace(plot_start, radius, resolution)\n",
    "    ax.plot(line, line, color=diag_color)\n",
    "    if radius < radii[-1]:\n",
    "        ax.plot(radius, radius, marker=\"o\", color=diag_color)\n",
    "\n",
    "    # little hole\n",
    "    draw_hole(radius, little_hole_birth, little_hole_death, little_hole_color, plot_start)\n",
    "    \n",
    "    # big hole\n",
    "    draw_hole(radius, big_hole_birth, big_hole_death, big_hole_color, plot_start)\n",
    "    \n",
    "    # save plot and hide in notebook\n",
    "    plt.savefig(folder + prefix + str(i+1) + \"_diagram.jpg\", dpi=dpi, bbox_inches=\"tight\")\n",
    "    plt.close()"
   ]
  },
  {
   "cell_type": "code",
   "execution_count": null,
   "metadata": {},
   "outputs": [],
   "source": []
  }
 ],
 "metadata": {
  "interpreter": {
   "hash": "cc9ab29e3788136e4e95e094359195dadbb3f32e5aec8d332b46bcb5ba542d6c"
  },
  "kernelspec": {
   "display_name": "Python 3.7.11 ('base')",
   "language": "python",
   "name": "python3"
  },
  "language_info": {
   "codemirror_mode": {
    "name": "ipython",
    "version": 3
   },
   "file_extension": ".py",
   "mimetype": "text/x-python",
   "name": "python",
   "nbconvert_exporter": "python",
   "pygments_lexer": "ipython3",
   "version": "3.7.11"
  },
  "orig_nbformat": 4
 },
 "nbformat": 4,
 "nbformat_minor": 2
}
