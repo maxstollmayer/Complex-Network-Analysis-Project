{
 "cells": [
  {
   "cell_type": "markdown",
   "metadata": {},
   "source": [
    "# Toy Network"
   ]
  },
  {
   "cell_type": "code",
   "execution_count": 8,
   "metadata": {},
   "outputs": [],
   "source": [
    "import numpy as np\n",
    "import networkx as nx\n",
    "\n",
    "from utils.layout import Layout\n",
    "from utils.spheres import spheres, spherical_graph"
   ]
  },
  {
   "cell_type": "code",
   "execution_count": 9,
   "metadata": {},
   "outputs": [],
   "source": [
    "# scene parameters\n",
    "dim = 3\n",
    "samples = 50\n",
    "start_radius = 0.2\n",
    "end_radius = 1.1\n",
    "step_size = 0.05\n",
    "radii = np.arange(start_radius, end_radius+step_size, step_size)\n",
    "\n",
    "# point cloud parameters\n",
    "dim = 3\n",
    "rng = np.random.default_rng(1)\n",
    "n1 = 10\n",
    "n2 = 5\n",
    "perturb_amount = (0.25, 0.25, 0.5)\n",
    "scale = 0.4\n",
    "center = (0.5, 1, 0)\n",
    "\n",
    "# colors and opacities\n",
    "node_color = (102, 232, 188, 255)     # turquoise\n",
    "big_hole_edge_hue = (248, 177, 0)     # yellow\n",
    "little_hole_edge_hue = (199, 56, 232) # violet\n",
    "base_opacity = 0\n",
    "birth_opacity = 255\n",
    "death_opacity = 50\n",
    "wireframe_node_color = (0, 0, 0, 0)\n",
    "wireframe_edge_color = (128, 128, 128, 20)\n",
    "\n",
    "# holes thresholds\n",
    "big_hole_birth = 0.5\n",
    "big_hole_death = 1\n",
    "little_hole_birth = 0.3\n",
    "little_hole_death = 0.4\n",
    "\n",
    "# environment variables\n",
    "folder = \"VR/toy/\"\n",
    "prefix = \"toy_\""
   ]
  },
  {
   "cell_type": "code",
   "execution_count": 10,
   "metadata": {},
   "outputs": [],
   "source": [
    "# UTILITY FUNCTIONS FOR UPDATING COLORS AND POSITIONS\n",
    "\n",
    "def update_opacities(big_hole: int, little_hole: int) -> None:\n",
    "    \"\"\"\n",
    "    Updates opacities of the hole edges.\n",
    "    \"\"\"\n",
    "    layout.edge_colors = np.concatenate((\n",
    "        np.repeat([big_hole_edge_hue + (big_hole,)], repeats=n1, axis=0),\n",
    "        np.repeat([little_hole_edge_hue + (little_hole,)], repeats=n2, axis=0),\n",
    "        np.repeat([wireframe_edge_color], repeats=G.number_of_edges()-PC.number_of_edges(), axis=0),\n",
    "    ))\n",
    "\n",
    "def update_positions(radius: float) -> None:\n",
    "    \"\"\"\n",
    "    Updates positions of wireframe nodes to given radius.\n",
    "    \"\"\"\n",
    "    _, pos = spheres(PC, PC_pos, radius=radius, samples=samples, dim=dim)\n",
    "    layout.pos = pos"
   ]
  },
  {
   "cell_type": "code",
   "execution_count": 11,
   "metadata": {},
   "outputs": [],
   "source": [
    "# GENERATE POINT CLOUD\n",
    "\n",
    "# network\n",
    "C1 = spherical_graph(n1, dim=2)\n",
    "C2 = spherical_graph(n2, dim=2)\n",
    "nx.relabel_nodes(C2, lambda x: x+n1, copy=False)\n",
    "PC = nx.compose(C1, C2)\n",
    "\n",
    "# first circle positions\n",
    "PC_pos = nx.circular_layout(C1, dim=dim)\n",
    "for node in C1:\n",
    "    PC_pos[node] = PC_pos[node] + perturb_amount * (0.5 - rng.random(dim))\n",
    "\n",
    "# second circle positions flipped on y axis\n",
    "pos = nx.circular_layout(C2, dim=dim, scale=scale, center=center)\n",
    "for node in C2:\n",
    "    PC_pos[node] = (pos[node] + perturb_amount * (0.5 - rng.random(dim)))[::-1]\n",
    "\n",
    "# spheres with radius 0\n",
    "G, pos = spheres(PC, PC_pos, radius=0, samples=samples, dim=dim)"
   ]
  },
  {
   "cell_type": "code",
   "execution_count": 12,
   "metadata": {},
   "outputs": [],
   "source": [
    "# GENERATE LAYOUT\n",
    "\n",
    "layout = Layout(G, pos)\n",
    "\n",
    "# set node colors\n",
    "layout.node_colors = np.concatenate((\n",
    "    np.repeat([node_color], repeats=len(PC), axis=0),                      # point cloud nodes\n",
    "    np.repeat([wireframe_node_color], repeats=(len(G) - len(PC)), axis=0), # sphere nodes\n",
    "))\n",
    "\n",
    "# set edge colors\n",
    "update_opacities(base_opacity, base_opacity)\n",
    "\n",
    "# save layout\n",
    "layout.write(folder + prefix + \"0\")"
   ]
  },
  {
   "cell_type": "code",
   "execution_count": 13,
   "metadata": {},
   "outputs": [],
   "source": [
    "# TEST DIFFERENT RADII\n",
    "# CHECK samples VALUE FOR PREVIEWING\n",
    "\n",
    "# update_positions(1)\n",
    "# update_opacities(birth_opacity, birth_opacity)\n",
    "# layout.preview(renderer=\"browser\")"
   ]
  },
  {
   "cell_type": "code",
   "execution_count": 14,
   "metadata": {},
   "outputs": [],
   "source": [
    "# LOOP THROUGH RADII AND SAVE SCENES\n",
    "\n",
    "for i, r in enumerate(radii):\n",
    "    update_positions(r)\n",
    "    update_opacities(base_opacity, base_opacity)\n",
    "    if little_hole_birth <= r < little_hole_death:\n",
    "        update_opacities(base_opacity, birth_opacity)\n",
    "    if r == little_hole_death:\n",
    "        update_opacities(base_opacity, death_opacity)\n",
    "    if big_hole_birth <= r < big_hole_death:\n",
    "        update_opacities(birth_opacity, base_opacity)\n",
    "    if r == big_hole_death:\n",
    "        update_opacities(death_opacity, base_opacity)\n",
    "    layout.write(folder + prefix + str(i+1))"
   ]
  },
  {
   "cell_type": "code",
   "execution_count": null,
   "metadata": {},
   "outputs": [],
   "source": []
  }
 ],
 "metadata": {
  "interpreter": {
   "hash": "9af5155ff6e2d23820f21b551b0b350456a2401753cdb8571075c112fd19de52"
  },
  "kernelspec": {
   "display_name": "Python 3.9.12 ('.venv': venv)",
   "language": "python",
   "name": "python3"
  },
  "language_info": {
   "codemirror_mode": {
    "name": "ipython",
    "version": 3
   },
   "file_extension": ".py",
   "mimetype": "text/x-python",
   "name": "python",
   "nbconvert_exporter": "python",
   "pygments_lexer": "ipython3",
   "version": "3.9.12"
  },
  "orig_nbformat": 4
 },
 "nbformat": 4,
 "nbformat_minor": 2
}
