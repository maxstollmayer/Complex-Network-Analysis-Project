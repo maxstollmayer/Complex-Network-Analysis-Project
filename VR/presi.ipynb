{
 "cells": [
  {
   "cell_type": "markdown",
   "id": "5947cd20-c47d-493a-8136-54ce8e9b028e",
   "metadata": {},
   "source": [
    "# Scenes"
   ]
  },
  {
   "cell_type": "markdown",
   "id": "e674efaa-f438-4bfe-b4b0-0afd6c383ea9",
   "metadata": {},
   "source": [
    "## Toy Network"
   ]
  },
  {
   "cell_type": "markdown",
   "id": "8e3fcb1a",
   "metadata": {},
   "source": [
    "1.1 point cloud\n",
    "\n",
    "<input type=\"checkbox\"/> network\n",
    "<input type=\"checkbox\"/> diagram"
   ]
  },
  {
   "cell_type": "markdown",
   "id": "08ec3800",
   "metadata": {},
   "source": [
    "1.2 little hole birth\n",
    "\n",
    "<input type=\"checkbox\"/> network\n",
    "<input type=\"checkbox\"/> diagram"
   ]
  },
  {
   "cell_type": "markdown",
   "id": "6ec7fbc9",
   "metadata": {},
   "source": [
    "1.3 little hole death\n",
    "\n",
    "<input type=\"checkbox\"/> network\n",
    "<input type=\"checkbox\"/> diagram"
   ]
  },
  {
   "cell_type": "markdown",
   "id": "1d81429e",
   "metadata": {},
   "source": [
    "1.4 big hole birth\n",
    "\n",
    "<input type=\"checkbox\"/> network\n",
    "<input type=\"checkbox\"/> diagram"
   ]
  },
  {
   "cell_type": "markdown",
   "id": "1e1b8233",
   "metadata": {},
   "source": [
    "1.5 big hole death\n",
    "\n",
    "<input type=\"checkbox\"/> network\n",
    "<input type=\"checkbox\"/> diagram"
   ]
  },
  {
   "cell_type": "markdown",
   "id": "0e956c60-a2a6-44e3-8f60-d1509be875fe",
   "metadata": {},
   "source": [
    "## Real Network"
   ]
  },
  {
   "cell_type": "markdown",
   "id": "789a020e",
   "metadata": {},
   "source": [
    "show Fibroblast proximity network\n",
    "\n",
    "<input type=\"checkbox\"/> network\n",
    "<input type=\"checkbox\"/> diagram"
   ]
  },
  {
   "cell_type": "code",
   "execution_count": null,
   "id": "2e62f052-3a27-4f22-975d-e3af3e67aaa4",
   "metadata": {},
   "outputs": [],
   "source": []
  }
 ],
 "metadata": {
  "kernelspec": {
   "display_name": "Python 3 (ipykernel)",
   "language": "python",
   "name": "python3"
  },
  "language_info": {
   "codemirror_mode": {
    "name": "ipython",
    "version": 3
   },
   "file_extension": ".py",
   "mimetype": "text/x-python",
   "name": "python",
   "nbconvert_exporter": "python",
   "pygments_lexer": "ipython3",
   "version": "3.7.11"
  }
 },
 "nbformat": 4,
 "nbformat_minor": 5
}
