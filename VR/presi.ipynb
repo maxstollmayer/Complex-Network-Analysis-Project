{
 "cells": [
  {
   "cell_type": "markdown",
   "id": "5947cd20-c47d-493a-8136-54ce8e9b028e",
   "metadata": {},
   "source": [
    "# Scenes"
   ]
  },
  {
   "cell_type": "markdown",
   "id": "e674efaa-f438-4bfe-b4b0-0afd6c383ea9",
   "metadata": {},
   "source": [
    "## Toy Network"
   ]
  },
  {
   "cell_type": "markdown",
   "id": "0e956c60-a2a6-44e3-8f60-d1509be875fe",
   "metadata": {},
   "source": [
    "## Real Network"
   ]
  },
  {
   "cell_type": "code",
   "execution_count": null,
   "id": "2e62f052-3a27-4f22-975d-e3af3e67aaa4",
   "metadata": {},
   "outputs": [],
   "source": []
  }
 ],
 "metadata": {
  "kernelspec": {
   "display_name": "Python 3 (ipykernel)",
   "language": "python",
   "name": "python3"
  },
  "language_info": {
   "codemirror_mode": {
    "name": "ipython",
    "version": 3
   },
   "file_extension": ".py",
   "mimetype": "text/x-python",
   "name": "python",
   "nbconvert_exporter": "python",
   "pygments_lexer": "ipython3",
   "version": "3.7.11"
  }
 },
 "nbformat": 4,
 "nbformat_minor": 5
}
