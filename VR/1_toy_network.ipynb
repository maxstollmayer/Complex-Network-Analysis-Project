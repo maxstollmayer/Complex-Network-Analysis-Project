{
 "cells": [
  {
   "cell_type": "markdown",
   "metadata": {},
   "source": [
    "# 1 Toy Network"
   ]
  },
  {
   "cell_type": "code",
   "execution_count": 23,
   "metadata": {},
   "outputs": [],
   "source": [
    "import numpy as np\n",
    "import networkx as nx\n",
    "import ringity as rng\n",
    "\n",
    "from utils.layout import Layout\n",
    "from utils.spheres import spheres"
   ]
  },
  {
   "cell_type": "code",
   "execution_count": 33,
   "metadata": {},
   "outputs": [],
   "source": [
    "dim = 3\n",
    "samples = 30\n",
    "\n",
    "node_color = (31, 119, 180, 100)\n",
    "edge_color = (0, 0, 0, 100)\n",
    "wireframe_node_color = (0, 0, 0, 0)\n",
    "wireframe_edge_color = (128, 128, 128, 50)\n",
    "\n",
    "folder = \"VR/\""
   ]
  },
  {
   "cell_type": "markdown",
   "metadata": {},
   "source": [
    "## 1.1 Point Cloud"
   ]
  },
  {
   "cell_type": "code",
   "execution_count": 56,
   "metadata": {},
   "outputs": [],
   "source": [
    "# parameters\n",
    "RS = np.random.default_rng(0)\n",
    "N1 = 10\n",
    "N2 = 5\n",
    "perturb_amount = (0.25, 0.25, 0.5)\n",
    "C2_scale = 0.5\n",
    "C2_center = (0.5, 1, 0)\n",
    "\n",
    "# empty network\n",
    "\n",
    "C1 = nx.empty_graph(N1)\n",
    "C2 = nx.empty_graph(N2)\n",
    "nx.relabel_nodes(C2, lambda x: x+N1, copy=False)\n",
    "G1 = nx.compose(C1, C2)\n",
    "\n",
    "# generate first circle\n",
    "pos1 = nx.circular_layout(C1, dim=dim)\n",
    "for node in C1:\n",
    "    pos1[node] = pos1[node] + perturb_amount * (0.5 - RS.random(dim))\n",
    "\n",
    "# generate second circle\n",
    "pos = nx.circular_layout(C2, dim=dim, scale=C2_scale, center=C2_center)\n",
    "for node in C2:\n",
    "    pos1[node] = (pos[node] + perturb_amount * (0.5 - RS.random(dim)))[::-1]"
   ]
  },
  {
   "cell_type": "code",
   "execution_count": 57,
   "metadata": {},
   "outputs": [],
   "source": [
    "L1 = Layout(G1, pos1)\n",
    "L1.node_colors = np.repeat([node_color], repeats=len(G1), axis=0)"
   ]
  },
  {
   "cell_type": "code",
   "execution_count": 59,
   "metadata": {},
   "outputs": [],
   "source": [
    "# TODO: make util\n",
    "#\n",
    "# G = G1.copy()\n",
    "# nodes = list(G.nodes)\n",
    "# for n1 in G:\n",
    "#     nodes.remove(n1)\n",
    "#     for n2 in nodes:\n",
    "#         x1, y1, z1 = L1.node_table.loc[n1, [\"x\",\"y\",\"z\"]]\n",
    "#         x2, y2, z2 = L1.node_table.loc[n2, [\"x\",\"y\",\"z\"]]\n",
    "#         d = np.sqrt((x1-x2)**2 + (y1-y2)**2 + (z1-z2)**2)\n",
    "#         G.add_edge(n1, n2, weight=d)\n",
    "#\n",
    "# dgm = rng.diagram(G, metric=\"weight\")\n",
    "# rng.plot_dgm(dgm)\n",
    "# print(dgm.ring_score())"
   ]
  },
  {
   "cell_type": "code",
   "execution_count": 61,
   "metadata": {},
   "outputs": [],
   "source": [
    "file = folder + \"1-1_point_cloud_\"\n",
    "L1.write(file+\"nodes.csv\", file+\"edges.csv\")"
   ]
  },
  {
   "cell_type": "markdown",
   "metadata": {},
   "source": [
    "## 1.2 Little Hole"
   ]
  },
  {
   "cell_type": "code",
   "execution_count": 66,
   "metadata": {},
   "outputs": [],
   "source": [
    "G2, pos2 = spheres(G1, pos1, radius=0.35, samples=samples, dim=dim)\n",
    "L2 = Layout(G2, pos2)\n",
    "L2.node_colors = np.concatenate((\n",
    "    np.repeat([node_color], repeats=len(G1), axis=0),\n",
    "    np.repeat([wireframe_node_color], repeats=(len(G2)-len(G1)), axis=0),\n",
    "))\n",
    "L2.edge_colors = np.repeat([wireframe_edge_color], repeats=G2.number_of_edges(), axis=0)"
   ]
  },
  {
   "cell_type": "code",
   "execution_count": 42,
   "metadata": {},
   "outputs": [],
   "source": [
    "file = folder + \"1-2_little_hole_\"\n",
    "L2.write(file+\"nodes.csv\", file+\"edges.csv\")"
   ]
  },
  {
   "cell_type": "markdown",
   "metadata": {},
   "source": [
    "## 1.3 Big Hole"
   ]
  },
  {
   "cell_type": "code",
   "execution_count": 72,
   "metadata": {},
   "outputs": [],
   "source": [
    "G3, pos3 = spheres(G1, pos1, radius=0.5, samples=samples, dim=dim)\n",
    "L3 = Layout(G3, pos3)\n",
    "L3.node_colors = np.concatenate((\n",
    "    np.repeat([node_color], repeats=len(G1), axis=0),\n",
    "    np.repeat([wireframe_node_color], repeats=(len(G3)-len(G1)), axis=0),\n",
    "))\n",
    "L3.edge_colors = np.repeat([wireframe_edge_color], repeats=G3.number_of_edges(), axis=0)"
   ]
  },
  {
   "cell_type": "code",
   "execution_count": 73,
   "metadata": {},
   "outputs": [],
   "source": [
    "file = folder + \"1-3_big_hole_\"\n",
    "L3.write(file+\"nodes.csv\", file+\"edges.csv\")"
   ]
  },
  {
   "cell_type": "markdown",
   "metadata": {},
   "source": [
    "## 1.4 Big Hole Death"
   ]
  },
  {
   "cell_type": "code",
   "execution_count": 79,
   "metadata": {},
   "outputs": [],
   "source": [
    "G4, pos4 = spheres(G1, pos1, radius=1, samples=samples, dim=dim)\n",
    "L4 = Layout(G4, pos4)\n",
    "L4.node_colors = np.concatenate((\n",
    "    np.repeat([node_color], repeats=len(G1), axis=0),\n",
    "    np.repeat([wireframe_node_color], repeats=(len(G4)-len(G1)), axis=0),\n",
    "))\n",
    "L4.edge_colors = np.repeat([wireframe_edge_color], repeats=G4.number_of_edges(), axis=0)"
   ]
  },
  {
   "cell_type": "code",
   "execution_count": 80,
   "metadata": {},
   "outputs": [],
   "source": [
    "file = folder + \"1-4_big_hole_death_\"\n",
    "L4.write(file+\"nodes.csv\", file+\"edges.csv\")"
   ]
  },
  {
   "cell_type": "code",
   "execution_count": null,
   "metadata": {},
   "outputs": [],
   "source": []
  }
 ],
 "metadata": {
  "interpreter": {
   "hash": "9af5155ff6e2d23820f21b551b0b350456a2401753cdb8571075c112fd19de52"
  },
  "kernelspec": {
   "display_name": "Python 3.9.12 ('.venv': venv)",
   "language": "python",
   "name": "python3"
  },
  "language_info": {
   "codemirror_mode": {
    "name": "ipython",
    "version": 3
   },
   "file_extension": ".py",
   "mimetype": "text/x-python",
   "name": "python",
   "nbconvert_exporter": "python",
   "pygments_lexer": "ipython3",
   "version": "3.9.12"
  },
  "orig_nbformat": 4
 },
 "nbformat": 4,
 "nbformat_minor": 2
}
