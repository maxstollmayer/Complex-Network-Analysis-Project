{
 "cells": [
  {
   "cell_type": "markdown",
   "id": "dd3dc0e0",
   "metadata": {},
   "source": [
    "A first presentation about the ideas for a network project by Manuel Wissiak & Maximilian Stollmayer."
   ]
  },
  {
   "cell_type": "markdown",
   "id": "6006f2b2-8a31-479e-be12-e5de5de8830b",
   "metadata": {},
   "source": [
    "# Modularity-Based Community Detection"
   ]
  },
  {
   "cell_type": "markdown",
   "id": "06846aec-af6e-4780-88b1-bf8e6b7f1377",
   "metadata": {
    "tags": []
   },
   "source": [
    "## Network: UN Global Migrations (1990-2015)\n",
    "\n",
    "- source: [Netzschleuder](https://networks.skewed.de/net/un_migrations)\n",
    "- nodes: countries / regions (1589)\n",
    "- edges: directed migrationflow, weighted by amount of people migrating (2742)\n",
    "\n",
    "<img src=\"world_migration.png\">"
   ]
  },
  {
   "cell_type": "markdown",
   "id": "aed8139b-7499-41b4-82f7-d96e0eaa9c1d",
   "metadata": {},
   "source": [
    "## Presentation outline"
   ]
  },
  {
   "cell_type": "markdown",
   "id": "cbe11b17-e9ea-4bb4-a817-c2dc6e86d824",
   "metadata": {},
   "source": [
    "### Scene 1: Modularity\n",
    "\n",
    "Explain modularity by using a simple toy graph in VR and showing modularity for different partitions, like in the lecture:\n",
    "\n",
    "<img src=\"modularity_fromLecture.png\">"
   ]
  },
  {
   "cell_type": "markdown",
   "id": "e39fd184-104a-4634-a192-f82ae673c8ec",
   "metadata": {},
   "source": [
    "### Scene 2: Greedy Algorithm\n",
    "\n",
    "Explain algorithm by using the toy graph in VR and transitioning through the steps described in the original paper, [Clauset, Newman & Moore: \"Finding community structure in very large networks\"](https://arxiv.org/pdf/cond-mat/0408187.pdf)."
   ]
  },
  {
   "cell_type": "markdown",
   "id": "1604d1c0-f8b8-4892-ab53-0ccfb5d47bca",
   "metadata": {},
   "source": [
    "### Scene 3: Migration Network\n",
    "\n",
    "Show network in VR and the detected communities using the algorithm."
   ]
  },
  {
   "cell_type": "markdown",
   "id": "3f9eb03d",
   "metadata": {},
   "source": [
    "### Scene 4: Results\n",
    "\n",
    "Interpret the findings and give outlook."
   ]
  },
  {
   "cell_type": "markdown",
   "id": "9b096682-b7ee-4762-b61b-dea4fa4a487d",
   "metadata": {},
   "source": [
    "# Persistent Homology"
   ]
  },
  {
   "cell_type": "markdown",
   "id": "550247d8-d8de-4ea7-98b8-012d2f956836",
   "metadata": {},
   "source": [
    "## Network: Science Collaboration Network\n",
    "\n",
    "- source: [Mark Newman's Network Repository](http://www-personal.umich.edu/~mejn/netdata/)\n",
    "- nodes: authors of network science publications (232)\n",
    "- edges: collaboration on at least a paper (11159), weighted by $$\\sum_{\\text{papers}} \\frac{1}{\\text{ \\# authors of paper} - 1}$$\n",
    "\n",
    "<img src=\"collabNetwork.png\">"
   ]
  },
  {
   "cell_type": "markdown",
   "id": "c28b492f-0cd6-422f-9bd9-da73d6b6687a",
   "metadata": {},
   "source": [
    "## presentation outline"
   ]
  },
  {
   "cell_type": "markdown",
   "id": "5d3b5acc-775d-45a8-bfa1-fb442a1c19f3",
   "metadata": {},
   "source": [
    "### Scene 1: Persistent Homology\n",
    "\n",
    "Motivate a different approach to analysing network properties and explain the topological concepts on a toy graph in VR.\n",
    "Like Betti numbers in the paper [Carstens, Horadam: \"Persistent Homology of Collaboration Networks\"](https://snap.stanford.edu/social2012/papers/carstens-horadam.pdf):\n",
    "\n",
    "<img src=\"triangleBettiNumbers_fromPaper.png\">\n",
    "\n",
    "Or like in the paper [Chung et al: \"Persistent Brain Network Homology from the Perspective of Dendrogram\"](https://pages.stat.wisc.edu/~mchung/papers/tr_228.pdf):\n",
    "\n",
    "<img src=\"brainFiltration_fromPaper.png\">"
   ]
  },
  {
   "cell_type": "markdown",
   "id": "c879d5e4-f806-4d50-b528-044b546c3ecf",
   "metadata": {},
   "source": [
    "### Scene 2: Collaboration Network\n",
    "\n",
    "Show collaboration network in VR with the filtrations and maybe compare to the behaviour of a similar random model using some statistics."
   ]
  },
  {
   "cell_type": "markdown",
   "id": "9aa5f9e9",
   "metadata": {},
   "source": [
    "### Scene 3: Results\n",
    "\n",
    "Interprete the findings and motivate some further research in the application of this concept."
   ]
  }
 ],
 "metadata": {
  "kernelspec": {
   "display_name": "Python 3 (ipykernel)",
   "language": "python",
   "name": "python3"
  },
  "language_info": {
   "codemirror_mode": {
    "name": "ipython",
    "version": 3
   },
   "file_extension": ".py",
   "mimetype": "text/x-python",
   "name": "python",
   "nbconvert_exporter": "python",
   "pygments_lexer": "ipython3",
   "version": "3.7.11"
  }
 },
 "nbformat": 4,
 "nbformat_minor": 5
}
